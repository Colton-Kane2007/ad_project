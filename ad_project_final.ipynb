{
 "cells": [
  {
   "cell_type": "markdown",
   "metadata": {},
   "source": [
    "# Imports"
   ]
  },
  {
   "cell_type": "code",
   "execution_count": 1,
   "metadata": {},
   "outputs": [],
   "source": [
    "#standard DS imports\n",
    "import numpy as np\n",
    "import pandas as pd\n",
    "\n",
    "#visualizion imports\n",
    "import matplotlib.pyplot as plt\n",
    "import seaborn as sns\n",
    "\n",
    "#wrangle file to grab and prepare\n",
    "from wrangle import wrangle_curriculum"
   ]
  },
  {
   "cell_type": "markdown",
   "metadata": {},
   "source": [
    "# Wrangling"
   ]
  },
  {
   "cell_type": "code",
   "execution_count": 4,
   "metadata": {},
   "outputs": [
    {
     "data": {
      "text/html": [
       "<div>\n",
       "<style scoped>\n",
       "    .dataframe tbody tr th:only-of-type {\n",
       "        vertical-align: middle;\n",
       "    }\n",
       "\n",
       "    .dataframe tbody tr th {\n",
       "        vertical-align: top;\n",
       "    }\n",
       "\n",
       "    .dataframe thead th {\n",
       "        text-align: right;\n",
       "    }\n",
       "</style>\n",
       "<table border=\"1\" class=\"dataframe\">\n",
       "  <thead>\n",
       "    <tr style=\"text-align: right;\">\n",
       "      <th></th>\n",
       "      <th>lesson</th>\n",
       "      <th>user_id</th>\n",
       "      <th>cohort_id</th>\n",
       "      <th>ip</th>\n",
       "      <th>year</th>\n",
       "      <th>month</th>\n",
       "      <th>weekday</th>\n",
       "      <th>hour</th>\n",
       "    </tr>\n",
       "    <tr>\n",
       "      <th>datetime</th>\n",
       "      <th></th>\n",
       "      <th></th>\n",
       "      <th></th>\n",
       "      <th></th>\n",
       "      <th></th>\n",
       "      <th></th>\n",
       "      <th></th>\n",
       "      <th></th>\n",
       "    </tr>\n",
       "  </thead>\n",
       "  <tbody>\n",
       "    <tr>\n",
       "      <th>2018-01-26 09:56:02</th>\n",
       "      <td>java-ii</td>\n",
       "      <td>1</td>\n",
       "      <td>8.0</td>\n",
       "      <td>97.105.19.61</td>\n",
       "      <td>2018</td>\n",
       "      <td>January</td>\n",
       "      <td>Friday</td>\n",
       "      <td>9</td>\n",
       "    </tr>\n",
       "    <tr>\n",
       "      <th>2018-01-26 09:56:05</th>\n",
       "      <td>java-ii/object-oriented-programming</td>\n",
       "      <td>1</td>\n",
       "      <td>8.0</td>\n",
       "      <td>97.105.19.61</td>\n",
       "      <td>2018</td>\n",
       "      <td>January</td>\n",
       "      <td>Friday</td>\n",
       "      <td>9</td>\n",
       "    </tr>\n",
       "    <tr>\n",
       "      <th>2018-01-26 09:56:06</th>\n",
       "      <td>slides/object_oriented_programming</td>\n",
       "      <td>1</td>\n",
       "      <td>8.0</td>\n",
       "      <td>97.105.19.61</td>\n",
       "      <td>2018</td>\n",
       "      <td>January</td>\n",
       "      <td>Friday</td>\n",
       "      <td>9</td>\n",
       "    </tr>\n",
       "    <tr>\n",
       "      <th>2018-01-26 09:56:24</th>\n",
       "      <td>javascript-i/conditionals</td>\n",
       "      <td>2</td>\n",
       "      <td>22.0</td>\n",
       "      <td>97.105.19.61</td>\n",
       "      <td>2018</td>\n",
       "      <td>January</td>\n",
       "      <td>Friday</td>\n",
       "      <td>9</td>\n",
       "    </tr>\n",
       "    <tr>\n",
       "      <th>2018-01-26 09:56:41</th>\n",
       "      <td>javascript-i/loops</td>\n",
       "      <td>2</td>\n",
       "      <td>22.0</td>\n",
       "      <td>97.105.19.61</td>\n",
       "      <td>2018</td>\n",
       "      <td>January</td>\n",
       "      <td>Friday</td>\n",
       "      <td>9</td>\n",
       "    </tr>\n",
       "    <tr>\n",
       "      <th>...</th>\n",
       "      <td>...</td>\n",
       "      <td>...</td>\n",
       "      <td>...</td>\n",
       "      <td>...</td>\n",
       "      <td>...</td>\n",
       "      <td>...</td>\n",
       "      <td>...</td>\n",
       "      <td>...</td>\n",
       "    </tr>\n",
       "    <tr>\n",
       "      <th>2021-04-21 16:41:51</th>\n",
       "      <td>jquery/personal-site</td>\n",
       "      <td>64</td>\n",
       "      <td>28.0</td>\n",
       "      <td>71.150.217.33</td>\n",
       "      <td>2021</td>\n",
       "      <td>April</td>\n",
       "      <td>Wednesday</td>\n",
       "      <td>16</td>\n",
       "    </tr>\n",
       "    <tr>\n",
       "      <th>2021-04-21 16:42:02</th>\n",
       "      <td>jquery/mapbox-api</td>\n",
       "      <td>64</td>\n",
       "      <td>28.0</td>\n",
       "      <td>71.150.217.33</td>\n",
       "      <td>2021</td>\n",
       "      <td>April</td>\n",
       "      <td>Wednesday</td>\n",
       "      <td>16</td>\n",
       "    </tr>\n",
       "    <tr>\n",
       "      <th>2021-04-21 16:42:09</th>\n",
       "      <td>jquery/ajax/weather-map</td>\n",
       "      <td>64</td>\n",
       "      <td>28.0</td>\n",
       "      <td>71.150.217.33</td>\n",
       "      <td>2021</td>\n",
       "      <td>April</td>\n",
       "      <td>Wednesday</td>\n",
       "      <td>16</td>\n",
       "    </tr>\n",
       "    <tr>\n",
       "      <th>2021-04-21 16:44:37</th>\n",
       "      <td>anomaly-detection/discrete-probabilistic-methods</td>\n",
       "      <td>744</td>\n",
       "      <td>28.0</td>\n",
       "      <td>24.160.137.86</td>\n",
       "      <td>2021</td>\n",
       "      <td>April</td>\n",
       "      <td>Wednesday</td>\n",
       "      <td>16</td>\n",
       "    </tr>\n",
       "    <tr>\n",
       "      <th>2021-04-21 16:44:39</th>\n",
       "      <td>jquery/mapbox-api</td>\n",
       "      <td>64</td>\n",
       "      <td>28.0</td>\n",
       "      <td>71.150.217.33</td>\n",
       "      <td>2021</td>\n",
       "      <td>April</td>\n",
       "      <td>Wednesday</td>\n",
       "      <td>16</td>\n",
       "    </tr>\n",
       "  </tbody>\n",
       "</table>\n",
       "<p>900222 rows × 8 columns</p>\n",
       "</div>"
      ],
      "text/plain": [
       "                                                               lesson  \\\n",
       "datetime                                                                \n",
       "2018-01-26 09:56:02                                           java-ii   \n",
       "2018-01-26 09:56:05               java-ii/object-oriented-programming   \n",
       "2018-01-26 09:56:06                slides/object_oriented_programming   \n",
       "2018-01-26 09:56:24                         javascript-i/conditionals   \n",
       "2018-01-26 09:56:41                                javascript-i/loops   \n",
       "...                                                               ...   \n",
       "2021-04-21 16:41:51                              jquery/personal-site   \n",
       "2021-04-21 16:42:02                                 jquery/mapbox-api   \n",
       "2021-04-21 16:42:09                           jquery/ajax/weather-map   \n",
       "2021-04-21 16:44:37  anomaly-detection/discrete-probabilistic-methods   \n",
       "2021-04-21 16:44:39                                 jquery/mapbox-api   \n",
       "\n",
       "                     user_id  cohort_id             ip  year    month  \\\n",
       "datetime                                                                \n",
       "2018-01-26 09:56:02        1        8.0   97.105.19.61  2018  January   \n",
       "2018-01-26 09:56:05        1        8.0   97.105.19.61  2018  January   \n",
       "2018-01-26 09:56:06        1        8.0   97.105.19.61  2018  January   \n",
       "2018-01-26 09:56:24        2       22.0   97.105.19.61  2018  January   \n",
       "2018-01-26 09:56:41        2       22.0   97.105.19.61  2018  January   \n",
       "...                      ...        ...            ...   ...      ...   \n",
       "2021-04-21 16:41:51       64       28.0  71.150.217.33  2021    April   \n",
       "2021-04-21 16:42:02       64       28.0  71.150.217.33  2021    April   \n",
       "2021-04-21 16:42:09       64       28.0  71.150.217.33  2021    April   \n",
       "2021-04-21 16:44:37      744       28.0  24.160.137.86  2021    April   \n",
       "2021-04-21 16:44:39       64       28.0  71.150.217.33  2021    April   \n",
       "\n",
       "                       weekday  hour  \n",
       "datetime                              \n",
       "2018-01-26 09:56:02     Friday     9  \n",
       "2018-01-26 09:56:05     Friday     9  \n",
       "2018-01-26 09:56:06     Friday     9  \n",
       "2018-01-26 09:56:24     Friday     9  \n",
       "2018-01-26 09:56:41     Friday     9  \n",
       "...                        ...   ...  \n",
       "2021-04-21 16:41:51  Wednesday    16  \n",
       "2021-04-21 16:42:02  Wednesday    16  \n",
       "2021-04-21 16:42:09  Wednesday    16  \n",
       "2021-04-21 16:44:37  Wednesday    16  \n",
       "2021-04-21 16:44:39  Wednesday    16  \n",
       "\n",
       "[900222 rows x 8 columns]"
      ]
     },
     "execution_count": 4,
     "metadata": {},
     "output_type": "execute_result"
    }
   ],
   "source": [
    "# wrangle_curriculum takes a txt file that the user has downloaded from \n",
    "    #Google Drive and prepares it by separating columns by space, renaming all columns descriptively, \n",
    "    #engineering a datetime column and dropping old date and time columns, \n",
    "    #changing datetime column to datetime type, setting datetime to index,\n",
    "    #engineering columns for each time attribute individually, filling nulls with zero for users\n",
    "    #that have no cohort_id\n",
    "df = wrangle_curriculum()\n",
    "df"
   ]
  },
  {
   "cell_type": "markdown",
   "metadata": {},
   "source": [
    "## 1. Which lesson appears to attract the most traffic consistently across cohorts (per program)?"
   ]
  },
  {
   "cell_type": "code",
   "execution_count": 5,
   "metadata": {},
   "outputs": [],
   "source": [
    "df = df.assign(lesson_code=lambda x: x.groupby(['lesson']).ngroup())"
   ]
  },
  {
   "cell_type": "code",
   "execution_count": 6,
   "metadata": {},
   "outputs": [
    {
     "data": {
      "text/plain": [
       "lesson_code\n",
       "7       50312\n",
       "2096    19519\n",
       "1794    18983\n",
       "2280    18297\n",
       "1767    13733\n",
       "        ...  \n",
       "182         1\n",
       "185         1\n",
       "370         1\n",
       "401         1\n",
       "1013        1\n",
       "Name: count, Length: 2314, dtype: int64"
      ]
     },
     "execution_count": 6,
     "metadata": {},
     "output_type": "execute_result"
    }
   ],
   "source": [
    "df.lesson_code.value_counts()"
   ]
  },
  {
   "cell_type": "code",
   "execution_count": 7,
   "metadata": {},
   "outputs": [
    {
     "data": {
      "text/plain": [
       "lesson\n",
       "/                                                               50312\n",
       "search/search_index.json                                        19519\n",
       "javascript-i                                                    18983\n",
       "toc                                                             18297\n",
       "java-iii                                                        13733\n",
       "                                                                ...  \n",
       "12-distributed-ml/6.1-prepare-part-1                                1\n",
       "12-distributed-ml/6.4-prepare-part-4                                1\n",
       "4-python                                                            1\n",
       "4-python/overview                                                   1\n",
       "appendix/professional-development/post-interview-review-form        1\n",
       "Name: count, Length: 2314, dtype: int64"
      ]
     },
     "execution_count": 7,
     "metadata": {},
     "output_type": "execute_result"
    }
   ],
   "source": [
    "df.lesson.value_counts()"
   ]
  },
  {
   "cell_type": "code",
   "execution_count": 8,
   "metadata": {},
   "outputs": [
    {
     "data": {
      "text/html": [
       "<div>\n",
       "<style scoped>\n",
       "    .dataframe tbody tr th:only-of-type {\n",
       "        vertical-align: middle;\n",
       "    }\n",
       "\n",
       "    .dataframe tbody tr th {\n",
       "        vertical-align: top;\n",
       "    }\n",
       "\n",
       "    .dataframe thead th {\n",
       "        text-align: right;\n",
       "    }\n",
       "</style>\n",
       "<table border=\"1\" class=\"dataframe\">\n",
       "  <thead>\n",
       "    <tr style=\"text-align: right;\">\n",
       "      <th></th>\n",
       "      <th>lesson</th>\n",
       "      <th>user_id</th>\n",
       "      <th>cohort_id</th>\n",
       "      <th>ip</th>\n",
       "      <th>year</th>\n",
       "      <th>month</th>\n",
       "      <th>weekday</th>\n",
       "      <th>hour</th>\n",
       "      <th>lesson_code</th>\n",
       "    </tr>\n",
       "    <tr>\n",
       "      <th>datetime</th>\n",
       "      <th></th>\n",
       "      <th></th>\n",
       "      <th></th>\n",
       "      <th></th>\n",
       "      <th></th>\n",
       "      <th></th>\n",
       "      <th></th>\n",
       "      <th></th>\n",
       "      <th></th>\n",
       "    </tr>\n",
       "  </thead>\n",
       "  <tbody>\n",
       "    <tr>\n",
       "      <th>2018-01-26 10:00:37</th>\n",
       "      <td>/</td>\n",
       "      <td>6</td>\n",
       "      <td>22.0</td>\n",
       "      <td>97.105.19.61</td>\n",
       "      <td>2018</td>\n",
       "      <td>January</td>\n",
       "      <td>Friday</td>\n",
       "      <td>10</td>\n",
       "      <td>7</td>\n",
       "    </tr>\n",
       "    <tr>\n",
       "      <th>2018-01-26 10:14:47</th>\n",
       "      <td>/</td>\n",
       "      <td>11</td>\n",
       "      <td>1.0</td>\n",
       "      <td>97.105.19.61</td>\n",
       "      <td>2018</td>\n",
       "      <td>January</td>\n",
       "      <td>Friday</td>\n",
       "      <td>10</td>\n",
       "      <td>7</td>\n",
       "    </tr>\n",
       "    <tr>\n",
       "      <th>2018-01-26 10:14:53</th>\n",
       "      <td>/</td>\n",
       "      <td>6</td>\n",
       "      <td>22.0</td>\n",
       "      <td>97.105.19.61</td>\n",
       "      <td>2018</td>\n",
       "      <td>January</td>\n",
       "      <td>Friday</td>\n",
       "      <td>10</td>\n",
       "      <td>7</td>\n",
       "    </tr>\n",
       "    <tr>\n",
       "      <th>2018-01-26 10:18:22</th>\n",
       "      <td>/</td>\n",
       "      <td>10</td>\n",
       "      <td>21.0</td>\n",
       "      <td>97.105.19.61</td>\n",
       "      <td>2018</td>\n",
       "      <td>January</td>\n",
       "      <td>Friday</td>\n",
       "      <td>10</td>\n",
       "      <td>7</td>\n",
       "    </tr>\n",
       "    <tr>\n",
       "      <th>2018-01-26 10:35:28</th>\n",
       "      <td>/</td>\n",
       "      <td>15</td>\n",
       "      <td>21.0</td>\n",
       "      <td>97.105.19.61</td>\n",
       "      <td>2018</td>\n",
       "      <td>January</td>\n",
       "      <td>Friday</td>\n",
       "      <td>10</td>\n",
       "      <td>7</td>\n",
       "    </tr>\n",
       "    <tr>\n",
       "      <th>...</th>\n",
       "      <td>...</td>\n",
       "      <td>...</td>\n",
       "      <td>...</td>\n",
       "      <td>...</td>\n",
       "      <td>...</td>\n",
       "      <td>...</td>\n",
       "      <td>...</td>\n",
       "      <td>...</td>\n",
       "      <td>...</td>\n",
       "    </tr>\n",
       "    <tr>\n",
       "      <th>2021-04-21 15:32:26</th>\n",
       "      <td>/</td>\n",
       "      <td>875</td>\n",
       "      <td>135.0</td>\n",
       "      <td>24.242.150.231</td>\n",
       "      <td>2021</td>\n",
       "      <td>April</td>\n",
       "      <td>Wednesday</td>\n",
       "      <td>15</td>\n",
       "      <td>7</td>\n",
       "    </tr>\n",
       "    <tr>\n",
       "      <th>2021-04-21 15:41:45</th>\n",
       "      <td>/</td>\n",
       "      <td>887</td>\n",
       "      <td>135.0</td>\n",
       "      <td>107.77.169.13</td>\n",
       "      <td>2021</td>\n",
       "      <td>April</td>\n",
       "      <td>Wednesday</td>\n",
       "      <td>15</td>\n",
       "      <td>7</td>\n",
       "    </tr>\n",
       "    <tr>\n",
       "      <th>2021-04-21 16:01:11</th>\n",
       "      <td>/</td>\n",
       "      <td>841</td>\n",
       "      <td>133.0</td>\n",
       "      <td>99.162.244.233</td>\n",
       "      <td>2021</td>\n",
       "      <td>April</td>\n",
       "      <td>Wednesday</td>\n",
       "      <td>16</td>\n",
       "      <td>7</td>\n",
       "    </tr>\n",
       "    <tr>\n",
       "      <th>2021-04-21 16:04:02</th>\n",
       "      <td>/</td>\n",
       "      <td>64</td>\n",
       "      <td>28.0</td>\n",
       "      <td>71.150.217.33</td>\n",
       "      <td>2021</td>\n",
       "      <td>April</td>\n",
       "      <td>Wednesday</td>\n",
       "      <td>16</td>\n",
       "      <td>7</td>\n",
       "    </tr>\n",
       "    <tr>\n",
       "      <th>2021-04-21 16:23:53</th>\n",
       "      <td>/</td>\n",
       "      <td>143</td>\n",
       "      <td>133.0</td>\n",
       "      <td>173.174.194.60</td>\n",
       "      <td>2021</td>\n",
       "      <td>April</td>\n",
       "      <td>Wednesday</td>\n",
       "      <td>16</td>\n",
       "      <td>7</td>\n",
       "    </tr>\n",
       "  </tbody>\n",
       "</table>\n",
       "<p>50312 rows × 9 columns</p>\n",
       "</div>"
      ],
      "text/plain": [
       "                    lesson  user_id  cohort_id              ip  year    month  \\\n",
       "datetime                                                                        \n",
       "2018-01-26 10:00:37      /        6       22.0    97.105.19.61  2018  January   \n",
       "2018-01-26 10:14:47      /       11        1.0    97.105.19.61  2018  January   \n",
       "2018-01-26 10:14:53      /        6       22.0    97.105.19.61  2018  January   \n",
       "2018-01-26 10:18:22      /       10       21.0    97.105.19.61  2018  January   \n",
       "2018-01-26 10:35:28      /       15       21.0    97.105.19.61  2018  January   \n",
       "...                    ...      ...        ...             ...   ...      ...   \n",
       "2021-04-21 15:32:26      /      875      135.0  24.242.150.231  2021    April   \n",
       "2021-04-21 15:41:45      /      887      135.0   107.77.169.13  2021    April   \n",
       "2021-04-21 16:01:11      /      841      133.0  99.162.244.233  2021    April   \n",
       "2021-04-21 16:04:02      /       64       28.0   71.150.217.33  2021    April   \n",
       "2021-04-21 16:23:53      /      143      133.0  173.174.194.60  2021    April   \n",
       "\n",
       "                       weekday  hour  lesson_code  \n",
       "datetime                                           \n",
       "2018-01-26 10:00:37     Friday    10            7  \n",
       "2018-01-26 10:14:47     Friday    10            7  \n",
       "2018-01-26 10:14:53     Friday    10            7  \n",
       "2018-01-26 10:18:22     Friday    10            7  \n",
       "2018-01-26 10:35:28     Friday    10            7  \n",
       "...                        ...   ...          ...  \n",
       "2021-04-21 15:32:26  Wednesday    15            7  \n",
       "2021-04-21 15:41:45  Wednesday    15            7  \n",
       "2021-04-21 16:01:11  Wednesday    16            7  \n",
       "2021-04-21 16:04:02  Wednesday    16            7  \n",
       "2021-04-21 16:23:53  Wednesday    16            7  \n",
       "\n",
       "[50312 rows x 9 columns]"
      ]
     },
     "execution_count": 8,
     "metadata": {},
     "output_type": "execute_result"
    }
   ],
   "source": [
    "# Homepage is /\n",
    "df[df.lesson_code==7]"
   ]
  },
  {
   "cell_type": "code",
   "execution_count": 9,
   "metadata": {},
   "outputs": [
    {
     "data": {
      "image/png": "[encoded data removed]",
      "text/plain": [
       "<Figure size 640x480 with 1 Axes>"
      ]
     },
     "metadata": {},
     "output_type": "display_data"
    }
   ],
   "source": [
    "sns.barplot(x='cohort_id', y='lesson_code', data=df)\n",
    "plt.title('Distribution of Lessons by Cohort')\n",
    "plt.show()"
   ]
  },
  {
   "cell_type": "markdown",
   "metadata": {},
   "source": [
    "## The most common lesson across cohorts is search/search_index.json (the most visited page is the homepage)"
   ]
  },
  {
   "cell_type": "markdown",
   "metadata": {},
   "source": [
    "# 2. Is there a cohort that referred to a lesson significantly more that other cohorts seemed to gloss over?"
   ]
  },
  {
   "cell_type": "code",
   "execution_count": 11,
   "metadata": {},
   "outputs": [
    {
     "data": {
      "image/png": "[encoded data removed]",
      "text/plain": [
       "<Figure size 640x480 with 1 Axes>"
      ]
     },
     "metadata": {},
     "output_type": "display_data"
    }
   ],
   "source": [
    "sns.scatterplot(x='lesson_code', y='cohort_id', data=df)\n",
    "plt.title('Distribution of Lessons by Cohort')\n",
    "plt.show()"
   ]
  },
  {
   "cell_type": "code",
   "execution_count": 12,
   "metadata": {},
   "outputs": [
    {
     "data": {
      "text/plain": [
       "lesson_code\n",
       "2096    19519\n",
       "1794    18983\n",
       "2280    18297\n",
       "1767    13733\n",
       "1668    13635\n",
       "        ...  \n",
       "182         1\n",
       "185         1\n",
       "370         1\n",
       "401         1\n",
       "1013        1\n",
       "Name: count, Length: 2313, dtype: int64"
      ]
     },
     "execution_count": 12,
     "metadata": {},
     "output_type": "execute_result"
    }
   ],
   "source": [
    "# Dropping homepage\n",
    "df = df[df.lesson_code != 7]\n",
    "df.lesson_code.value_counts()"
   ]
  },
  {
   "cell_type": "code",
   "execution_count": 13,
   "metadata": {},
   "outputs": [
    {
     "data": {
      "text/html": [
       "<div>\n",
       "<style scoped>\n",
       "    .dataframe tbody tr th:only-of-type {\n",
       "        vertical-align: middle;\n",
       "    }\n",
       "\n",
       "    .dataframe tbody tr th {\n",
       "        vertical-align: top;\n",
       "    }\n",
       "\n",
       "    .dataframe thead th {\n",
       "        text-align: right;\n",
       "    }\n",
       "</style>\n",
       "<table border=\"1\" class=\"dataframe\">\n",
       "  <thead>\n",
       "    <tr style=\"text-align: right;\">\n",
       "      <th></th>\n",
       "      <th>lesson_code</th>\n",
       "      <th>cohort_id</th>\n",
       "      <th>count</th>\n",
       "    </tr>\n",
       "  </thead>\n",
       "  <tbody>\n",
       "    <tr>\n",
       "      <th>0</th>\n",
       "      <td>2096</td>\n",
       "      <td>0.0</td>\n",
       "      <td>1985</td>\n",
       "    </tr>\n",
       "    <tr>\n",
       "      <th>1</th>\n",
       "      <td>2280</td>\n",
       "      <td>62.0</td>\n",
       "      <td>1866</td>\n",
       "    </tr>\n",
       "    <tr>\n",
       "      <th>2</th>\n",
       "      <td>1794</td>\n",
       "      <td>28.0</td>\n",
       "      <td>1817</td>\n",
       "    </tr>\n",
       "    <tr>\n",
       "      <th>3</th>\n",
       "      <td>2096</td>\n",
       "      <td>56.0</td>\n",
       "      <td>1497</td>\n",
       "    </tr>\n",
       "    <tr>\n",
       "      <th>4</th>\n",
       "      <td>2280</td>\n",
       "      <td>29.0</td>\n",
       "      <td>1465</td>\n",
       "    </tr>\n",
       "    <tr>\n",
       "      <th>7</th>\n",
       "      <td>2096</td>\n",
       "      <td>33.0</td>\n",
       "      <td>1380</td>\n",
       "    </tr>\n",
       "    <tr>\n",
       "      <th>9</th>\n",
       "      <td>2280</td>\n",
       "      <td>53.0</td>\n",
       "      <td>1293</td>\n",
       "    </tr>\n",
       "    <tr>\n",
       "      <th>13</th>\n",
       "      <td>1093</td>\n",
       "      <td>59.0</td>\n",
       "      <td>1109</td>\n",
       "    </tr>\n",
       "    <tr>\n",
       "      <th>14</th>\n",
       "      <td>2096</td>\n",
       "      <td>57.0</td>\n",
       "      <td>1095</td>\n",
       "    </tr>\n",
       "    <tr>\n",
       "      <th>16</th>\n",
       "      <td>2280</td>\n",
       "      <td>58.0</td>\n",
       "      <td>1022</td>\n",
       "    </tr>\n",
       "    <tr>\n",
       "      <th>21</th>\n",
       "      <td>2280</td>\n",
       "      <td>25.0</td>\n",
       "      <td>991</td>\n",
       "    </tr>\n",
       "    <tr>\n",
       "      <th>22</th>\n",
       "      <td>2280</td>\n",
       "      <td>52.0</td>\n",
       "      <td>964</td>\n",
       "    </tr>\n",
       "    <tr>\n",
       "      <th>28</th>\n",
       "      <td>2280</td>\n",
       "      <td>135.0</td>\n",
       "      <td>910</td>\n",
       "    </tr>\n",
       "    <tr>\n",
       "      <th>32</th>\n",
       "      <td>1794</td>\n",
       "      <td>51.0</td>\n",
       "      <td>896</td>\n",
       "    </tr>\n",
       "    <tr>\n",
       "      <th>34</th>\n",
       "      <td>1794</td>\n",
       "      <td>24.0</td>\n",
       "      <td>884</td>\n",
       "    </tr>\n",
       "    <tr>\n",
       "      <th>35</th>\n",
       "      <td>1720</td>\n",
       "      <td>14.0</td>\n",
       "      <td>877</td>\n",
       "    </tr>\n",
       "    <tr>\n",
       "      <th>50</th>\n",
       "      <td>2096</td>\n",
       "      <td>32.0</td>\n",
       "      <td>761</td>\n",
       "    </tr>\n",
       "    <tr>\n",
       "      <th>57</th>\n",
       "      <td>2148</td>\n",
       "      <td>22.0</td>\n",
       "      <td>744</td>\n",
       "    </tr>\n",
       "    <tr>\n",
       "      <th>61</th>\n",
       "      <td>1794</td>\n",
       "      <td>26.0</td>\n",
       "      <td>722</td>\n",
       "    </tr>\n",
       "    <tr>\n",
       "      <th>62</th>\n",
       "      <td>1911</td>\n",
       "      <td>23.0</td>\n",
       "      <td>721</td>\n",
       "    </tr>\n",
       "    <tr>\n",
       "      <th>68</th>\n",
       "      <td>2280</td>\n",
       "      <td>27.0</td>\n",
       "      <td>697</td>\n",
       "    </tr>\n",
       "    <tr>\n",
       "      <th>72</th>\n",
       "      <td>1794</td>\n",
       "      <td>134.0</td>\n",
       "      <td>676</td>\n",
       "    </tr>\n",
       "    <tr>\n",
       "      <th>81</th>\n",
       "      <td>2096</td>\n",
       "      <td>61.0</td>\n",
       "      <td>660</td>\n",
       "    </tr>\n",
       "    <tr>\n",
       "      <th>84</th>\n",
       "      <td>36</td>\n",
       "      <td>34.0</td>\n",
       "      <td>650</td>\n",
       "    </tr>\n",
       "    <tr>\n",
       "      <th>95</th>\n",
       "      <td>2280</td>\n",
       "      <td>31.0</td>\n",
       "      <td>638</td>\n",
       "    </tr>\n",
       "    <tr>\n",
       "      <th>98</th>\n",
       "      <td>1794</td>\n",
       "      <td>132.0</td>\n",
       "      <td>631</td>\n",
       "    </tr>\n",
       "    <tr>\n",
       "      <th>99</th>\n",
       "      <td>1632</td>\n",
       "      <td>137.0</td>\n",
       "      <td>627</td>\n",
       "    </tr>\n",
       "    <tr>\n",
       "      <th>114</th>\n",
       "      <td>506</td>\n",
       "      <td>55.0</td>\n",
       "      <td>595</td>\n",
       "    </tr>\n",
       "    <tr>\n",
       "      <th>202</th>\n",
       "      <td>1098</td>\n",
       "      <td>133.0</td>\n",
       "      <td>463</td>\n",
       "    </tr>\n",
       "    <tr>\n",
       "      <th>214</th>\n",
       "      <td>2280</td>\n",
       "      <td>138.0</td>\n",
       "      <td>451</td>\n",
       "    </tr>\n",
       "    <tr>\n",
       "      <th>328</th>\n",
       "      <td>2148</td>\n",
       "      <td>21.0</td>\n",
       "      <td>364</td>\n",
       "    </tr>\n",
       "    <tr>\n",
       "      <th>569</th>\n",
       "      <td>1794</td>\n",
       "      <td>1.0</td>\n",
       "      <td>294</td>\n",
       "    </tr>\n",
       "    <tr>\n",
       "      <th>1657</th>\n",
       "      <td>1815</td>\n",
       "      <td>139.0</td>\n",
       "      <td>179</td>\n",
       "    </tr>\n",
       "    <tr>\n",
       "      <th>2441</th>\n",
       "      <td>1794</td>\n",
       "      <td>17.0</td>\n",
       "      <td>128</td>\n",
       "    </tr>\n",
       "    <tr>\n",
       "      <th>3180</th>\n",
       "      <td>1720</td>\n",
       "      <td>13.0</td>\n",
       "      <td>84</td>\n",
       "    </tr>\n",
       "    <tr>\n",
       "      <th>3466</th>\n",
       "      <td>1794</td>\n",
       "      <td>18.0</td>\n",
       "      <td>69</td>\n",
       "    </tr>\n",
       "    <tr>\n",
       "      <th>3557</th>\n",
       "      <td>2148</td>\n",
       "      <td>16.0</td>\n",
       "      <td>65</td>\n",
       "    </tr>\n",
       "    <tr>\n",
       "      <th>3747</th>\n",
       "      <td>1767</td>\n",
       "      <td>8.0</td>\n",
       "      <td>57</td>\n",
       "    </tr>\n",
       "    <tr>\n",
       "      <th>4311</th>\n",
       "      <td>1321</td>\n",
       "      <td>19.0</td>\n",
       "      <td>38</td>\n",
       "    </tr>\n",
       "    <tr>\n",
       "      <th>4755</th>\n",
       "      <td>1243</td>\n",
       "      <td>7.0</td>\n",
       "      <td>29</td>\n",
       "    </tr>\n",
       "    <tr>\n",
       "      <th>5443</th>\n",
       "      <td>1243</td>\n",
       "      <td>12.0</td>\n",
       "      <td>19</td>\n",
       "    </tr>\n",
       "    <tr>\n",
       "      <th>5463</th>\n",
       "      <td>1744</td>\n",
       "      <td>15.0</td>\n",
       "      <td>19</td>\n",
       "    </tr>\n",
       "    <tr>\n",
       "      <th>6231</th>\n",
       "      <td>1668</td>\n",
       "      <td>11.0</td>\n",
       "      <td>12</td>\n",
       "    </tr>\n",
       "    <tr>\n",
       "      <th>6683</th>\n",
       "      <td>1840</td>\n",
       "      <td>6.0</td>\n",
       "      <td>10</td>\n",
       "    </tr>\n",
       "    <tr>\n",
       "      <th>7865</th>\n",
       "      <td>1415</td>\n",
       "      <td>2.0</td>\n",
       "      <td>6</td>\n",
       "    </tr>\n",
       "    <tr>\n",
       "      <th>11021</th>\n",
       "      <td>1243</td>\n",
       "      <td>9.0</td>\n",
       "      <td>2</td>\n",
       "    </tr>\n",
       "    <tr>\n",
       "      <th>11693</th>\n",
       "      <td>2016</td>\n",
       "      <td>4.0</td>\n",
       "      <td>1</td>\n",
       "    </tr>\n",
       "  </tbody>\n",
       "</table>\n",
       "</div>"
      ],
      "text/plain": [
       "       lesson_code  cohort_id  count\n",
       "0             2096        0.0   1985\n",
       "1             2280       62.0   1866\n",
       "2             1794       28.0   1817\n",
       "3             2096       56.0   1497\n",
       "4             2280       29.0   1465\n",
       "7             2096       33.0   1380\n",
       "9             2280       53.0   1293\n",
       "13            1093       59.0   1109\n",
       "14            2096       57.0   1095\n",
       "16            2280       58.0   1022\n",
       "21            2280       25.0    991\n",
       "22            2280       52.0    964\n",
       "28            2280      135.0    910\n",
       "32            1794       51.0    896\n",
       "34            1794       24.0    884\n",
       "35            1720       14.0    877\n",
       "50            2096       32.0    761\n",
       "57            2148       22.0    744\n",
       "61            1794       26.0    722\n",
       "62            1911       23.0    721\n",
       "68            2280       27.0    697\n",
       "72            1794      134.0    676\n",
       "81            2096       61.0    660\n",
       "84              36       34.0    650\n",
       "95            2280       31.0    638\n",
       "98            1794      132.0    631\n",
       "99            1632      137.0    627\n",
       "114            506       55.0    595\n",
       "202           1098      133.0    463\n",
       "214           2280      138.0    451\n",
       "328           2148       21.0    364\n",
       "569           1794        1.0    294\n",
       "1657          1815      139.0    179\n",
       "2441          1794       17.0    128\n",
       "3180          1720       13.0     84\n",
       "3466          1794       18.0     69\n",
       "3557          2148       16.0     65\n",
       "3747          1767        8.0     57\n",
       "4311          1321       19.0     38\n",
       "4755          1243        7.0     29\n",
       "5443          1243       12.0     19\n",
       "5463          1744       15.0     19\n",
       "6231          1668       11.0     12\n",
       "6683          1840        6.0     10\n",
       "7865          1415        2.0      6\n",
       "11021         1243        9.0      2\n",
       "11693         2016        4.0      1"
      ]
     },
     "execution_count": 13,
     "metadata": {},
     "output_type": "execute_result"
    }
   ],
   "source": [
    "# Making df to show count for each cohort visiting a lesson\n",
    "bb_df = (df.groupby(['lesson_code', 'cohort_id']).size() \n",
    "   .sort_values(ascending=False) \n",
    "   .reset_index(name='count') \n",
    "   .drop_duplicates(subset='cohort_id'))\n",
    "bb_df"
   ]
  },
  {
   "cell_type": "code",
   "execution_count": 14,
   "metadata": {},
   "outputs": [
    {
     "data": {
      "text/plain": [
       "lesson_code\n",
       "2280    10\n",
       "1794     9\n",
       "2096     6\n",
       "2148     3\n",
       "1243     3\n",
       "1720     2\n",
       "1767     1\n",
       "1415     1\n",
       "1840     1\n",
       "1668     1\n",
       "1744     1\n",
       "1321     1\n",
       "1098     1\n",
       "1815     1\n",
       "506      1\n",
       "1632     1\n",
       "36       1\n",
       "1911     1\n",
       "1093     1\n",
       "2016     1\n",
       "Name: count, dtype: int64"
      ]
     },
     "execution_count": 14,
     "metadata": {},
     "output_type": "execute_result"
    }
   ],
   "source": [
    "bb_df.lesson_code.value_counts()"
   ]
  },
  {
   "cell_type": "markdown",
   "metadata": {},
   "source": [
    "## Checking all lessons that were highly visited by one cohort, but glossed over by others. Looking for high disperity between top visiting cohort and second highest cohort for each lesson with only 1 cohort that visited it the most compared to other lessons"
   ]
  },
  {
   "cell_type": "code",
   "execution_count": 15,
   "metadata": {},
   "outputs": [
    {
     "data": {
      "text/plain": [
       "(13733, 9)"
      ]
     },
     "execution_count": 15,
     "metadata": {},
     "output_type": "execute_result"
    }
   ],
   "source": [
    "df[df.lesson_code==1767].shape"
   ]
  },
  {
   "cell_type": "markdown",
   "metadata": {},
   "source": [
    "## Nearly twice as many"
   ]
  },
  {
   "cell_type": "code",
   "execution_count": 16,
   "metadata": {},
   "outputs": [
    {
     "data": {
      "text/plain": [
       "cohort_id\n",
       "28.0     1393\n",
       "62.0      795\n",
       "53.0      786\n",
       "24.0      770\n",
       "29.0      753\n",
       "22.0      732\n",
       "58.0      701\n",
       "33.0      682\n",
       "56.0      663\n",
       "57.0      651\n",
       "0.0       567\n",
       "51.0      523\n",
       "26.0      497\n",
       "32.0      472\n",
       "132.0     456\n",
       "52.0      451\n",
       "31.0      433\n",
       "23.0      412\n",
       "27.0      351\n",
       "25.0      337\n",
       "61.0      324\n",
       "134.0     259\n",
       "14.0      224\n",
       "1.0       153\n",
       "21.0      105\n",
       "8.0        57\n",
       "18.0       45\n",
       "135.0      40\n",
       "16.0       29\n",
       "17.0       25\n",
       "15.0       13\n",
       "138.0       9\n",
       "13.0        8\n",
       "11.0        5\n",
       "34.0        4\n",
       "6.0         3\n",
       "19.0        3\n",
       "12.0        1\n",
       "139.0       1\n",
       "Name: count, dtype: int64"
      ]
     },
     "execution_count": 16,
     "metadata": {},
     "output_type": "execute_result"
    }
   ],
   "source": [
    "df[df.lesson_code==1767]['cohort_id'].value_counts()"
   ]
  },
  {
   "cell_type": "code",
   "execution_count": 17,
   "metadata": {},
   "outputs": [
    {
     "data": {
      "text/plain": [
       "(46, 9)"
      ]
     },
     "execution_count": 17,
     "metadata": {},
     "output_type": "execute_result"
    }
   ],
   "source": [
    "df[df.lesson_code==1415].shape"
   ]
  },
  {
   "cell_type": "markdown",
   "metadata": {},
   "source": [
    "## Not significantly more"
   ]
  },
  {
   "cell_type": "code",
   "execution_count": 18,
   "metadata": {},
   "outputs": [
    {
     "data": {
      "text/plain": [
       "cohort_id\n",
       "17.0    12\n",
       "13.0     8\n",
       "22.0     8\n",
       "2.0      6\n",
       "15.0     4\n",
       "19.0     2\n",
       "14.0     2\n",
       "23.0     2\n",
       "18.0     1\n",
       "25.0     1\n",
       "Name: count, dtype: int64"
      ]
     },
     "execution_count": 18,
     "metadata": {},
     "output_type": "execute_result"
    }
   ],
   "source": [
    "df[df.lesson_code==1415]['cohort_id'].value_counts()"
   ]
  },
  {
   "cell_type": "code",
   "execution_count": 19,
   "metadata": {},
   "outputs": [
    {
     "data": {
      "text/plain": [
       "(4669, 9)"
      ]
     },
     "execution_count": 19,
     "metadata": {},
     "output_type": "execute_result"
    }
   ],
   "source": [
    "df[df.lesson_code==1840].shape"
   ]
  },
  {
   "cell_type": "markdown",
   "metadata": {},
   "source": [
    "## Not sig more"
   ]
  },
  {
   "cell_type": "code",
   "execution_count": 20,
   "metadata": {},
   "outputs": [
    {
     "data": {
      "text/plain": [
       "cohort_id\n",
       "29.0     313\n",
       "33.0     276\n",
       "28.0     243\n",
       "53.0     228\n",
       "22.0     223\n",
       "24.0     210\n",
       "26.0     209\n",
       "32.0     207\n",
       "56.0     206\n",
       "25.0     203\n",
       "57.0     198\n",
       "62.0     195\n",
       "23.0     193\n",
       "0.0      177\n",
       "51.0     176\n",
       "58.0     171\n",
       "27.0     169\n",
       "134.0    165\n",
       "31.0     161\n",
       "52.0     153\n",
       "132.0    151\n",
       "135.0    111\n",
       "61.0     100\n",
       "1.0       68\n",
       "17.0      50\n",
       "21.0      33\n",
       "14.0      24\n",
       "18.0      22\n",
       "6.0       10\n",
       "8.0        6\n",
       "138.0      5\n",
       "16.0       4\n",
       "15.0       2\n",
       "13.0       2\n",
       "19.0       2\n",
       "7.0        2\n",
       "2.0        1\n",
       "Name: count, dtype: int64"
      ]
     },
     "execution_count": 20,
     "metadata": {},
     "output_type": "execute_result"
    }
   ],
   "source": [
    "df[df.lesson_code==1840]['cohort_id'].value_counts()"
   ]
  },
  {
   "cell_type": "code",
   "execution_count": 21,
   "metadata": {},
   "outputs": [
    {
     "data": {
      "text/plain": [
       "(13635, 9)"
      ]
     },
     "execution_count": 21,
     "metadata": {},
     "output_type": "execute_result"
    }
   ],
   "source": [
    "df[df.lesson_code==1668].shape"
   ]
  },
  {
   "cell_type": "markdown",
   "metadata": {},
   "source": [
    "## Not as many as first, but still significant"
   ]
  },
  {
   "cell_type": "code",
   "execution_count": 22,
   "metadata": {},
   "outputs": [
    {
     "data": {
      "text/plain": [
       "cohort_id\n",
       "28.0     1284\n",
       "62.0      784\n",
       "51.0      773\n",
       "33.0      766\n",
       "56.0      738\n",
       "29.0      675\n",
       "26.0      597\n",
       "53.0      585\n",
       "23.0      562\n",
       "24.0      528\n",
       "0.0       508\n",
       "57.0      504\n",
       "132.0     495\n",
       "135.0     479\n",
       "32.0      457\n",
       "58.0      439\n",
       "25.0      411\n",
       "27.0      384\n",
       "31.0      375\n",
       "52.0      353\n",
       "138.0     313\n",
       "134.0     307\n",
       "61.0      265\n",
       "22.0      241\n",
       "1.0       215\n",
       "14.0      174\n",
       "21.0      168\n",
       "17.0       69\n",
       "18.0       56\n",
       "139.0      21\n",
       "7.0        21\n",
       "8.0        21\n",
       "34.0       16\n",
       "11.0       12\n",
       "19.0       12\n",
       "13.0       10\n",
       "16.0        6\n",
       "12.0        5\n",
       "15.0        3\n",
       "2.0         2\n",
       "6.0         1\n",
       "Name: count, dtype: int64"
      ]
     },
     "execution_count": 22,
     "metadata": {},
     "output_type": "execute_result"
    }
   ],
   "source": [
    "df[df.lesson_code==1668]['cohort_id'].value_counts()"
   ]
  },
  {
   "cell_type": "code",
   "execution_count": 23,
   "metadata": {},
   "outputs": [
    {
     "data": {
      "text/plain": [
       "(10865, 9)"
      ]
     },
     "execution_count": 23,
     "metadata": {},
     "output_type": "execute_result"
    }
   ],
   "source": [
    "df[df.lesson_code==1744].shape"
   ]
  },
  {
   "cell_type": "markdown",
   "metadata": {},
   "source": [
    "## Not sig more"
   ]
  },
  {
   "cell_type": "code",
   "execution_count": 24,
   "metadata": {},
   "outputs": [
    {
     "data": {
      "text/plain": [
       "cohort_id\n",
       "28.0     855\n",
       "24.0     641\n",
       "29.0     605\n",
       "56.0     590\n",
       "53.0     555\n",
       "33.0     526\n",
       "22.0     522\n",
       "57.0     515\n",
       "62.0     503\n",
       "58.0     489\n",
       "26.0     484\n",
       "32.0     482\n",
       "51.0     460\n",
       "132.0    408\n",
       "25.0     406\n",
       "0.0      398\n",
       "23.0     377\n",
       "31.0     338\n",
       "52.0     326\n",
       "27.0     249\n",
       "61.0     213\n",
       "134.0    172\n",
       "14.0     138\n",
       "1.0      132\n",
       "21.0     126\n",
       "17.0      76\n",
       "135.0     62\n",
       "18.0      54\n",
       "8.0       46\n",
       "13.0      20\n",
       "15.0      19\n",
       "16.0      18\n",
       "138.0     17\n",
       "19.0      14\n",
       "7.0        8\n",
       "34.0       7\n",
       "11.0       5\n",
       "139.0      4\n",
       "6.0        3\n",
       "2.0        1\n",
       "12.0       1\n",
       "Name: count, dtype: int64"
      ]
     },
     "execution_count": 24,
     "metadata": {},
     "output_type": "execute_result"
    }
   ],
   "source": [
    "df[df.lesson_code==1744]['cohort_id'].value_counts()"
   ]
  },
  {
   "cell_type": "code",
   "execution_count": 25,
   "metadata": {},
   "outputs": [
    {
     "data": {
      "text/plain": [
       "(261, 9)"
      ]
     },
     "execution_count": 25,
     "metadata": {},
     "output_type": "execute_result"
    }
   ],
   "source": [
    "df[df.lesson_code==1321].shape"
   ]
  },
  {
   "cell_type": "markdown",
   "metadata": {},
   "source": [
    "## Our biggest diseperity yet, over twice as many from cohort 13"
   ]
  },
  {
   "cell_type": "code",
   "execution_count": 26,
   "metadata": {},
   "outputs": [
    {
     "data": {
      "text/plain": [
       "cohort_id\n",
       "13.0    83\n",
       "19.0    38\n",
       "17.0    31\n",
       "1.0     23\n",
       "28.0    23\n",
       "14.0    21\n",
       "22.0     6\n",
       "18.0     6\n",
       "23.0     5\n",
       "12.0     5\n",
       "0.0      3\n",
       "7.0      3\n",
       "11.0     3\n",
       "24.0     2\n",
       "2.0      2\n",
       "31.0     2\n",
       "21.0     1\n",
       "25.0     1\n",
       "8.0      1\n",
       "26.0     1\n",
       "33.0     1\n",
       "Name: count, dtype: int64"
      ]
     },
     "execution_count": 26,
     "metadata": {},
     "output_type": "execute_result"
    }
   ],
   "source": [
    "df[df.lesson_code==1321]['cohort_id'].value_counts()"
   ]
  },
  {
   "cell_type": "code",
   "execution_count": 27,
   "metadata": {},
   "outputs": [
    {
     "data": {
      "text/plain": [
       "(2302, 9)"
      ]
     },
     "execution_count": 27,
     "metadata": {},
     "output_type": "execute_result"
    }
   ],
   "source": [
    "df[df.lesson_code==1098].shape"
   ]
  },
  {
   "cell_type": "markdown",
   "metadata": {},
   "source": [
    "## Not sig more"
   ]
  },
  {
   "cell_type": "code",
   "execution_count": 28,
   "metadata": {},
   "outputs": [
    {
     "data": {
      "text/plain": [
       "cohort_id\n",
       "59.0     943\n",
       "28.0     707\n",
       "133.0    463\n",
       "55.0      96\n",
       "137.0     60\n",
       "34.0      28\n",
       "0.0        4\n",
       "22.0       1\n",
       "Name: count, dtype: int64"
      ]
     },
     "execution_count": 28,
     "metadata": {},
     "output_type": "execute_result"
    }
   ],
   "source": [
    "df[df.lesson_code==1098]['cohort_id'].value_counts()"
   ]
  },
  {
   "cell_type": "code",
   "execution_count": 29,
   "metadata": {},
   "outputs": [
    {
     "data": {
      "text/plain": [
       "(5132, 9)"
      ]
     },
     "execution_count": 29,
     "metadata": {},
     "output_type": "execute_result"
    }
   ],
   "source": [
    "df[df.lesson_code==1815].shape"
   ]
  },
  {
   "cell_type": "markdown",
   "metadata": {},
   "source": [
    "## Not sig more"
   ]
  },
  {
   "cell_type": "code",
   "execution_count": 30,
   "metadata": {},
   "outputs": [
    {
     "data": {
      "text/plain": [
       "cohort_id\n",
       "33.0     290\n",
       "32.0     282\n",
       "135.0    269\n",
       "62.0     241\n",
       "29.0     237\n",
       "25.0     222\n",
       "52.0     213\n",
       "138.0    209\n",
       "26.0     209\n",
       "53.0     208\n",
       "24.0     206\n",
       "56.0     200\n",
       "58.0     198\n",
       "23.0     195\n",
       "31.0     194\n",
       "51.0     193\n",
       "57.0     189\n",
       "28.0     187\n",
       "139.0    179\n",
       "0.0      175\n",
       "132.0    171\n",
       "27.0     140\n",
       "134.0    129\n",
       "22.0     109\n",
       "61.0      92\n",
       "1.0       53\n",
       "17.0      43\n",
       "14.0      38\n",
       "21.0      23\n",
       "7.0       18\n",
       "18.0       8\n",
       "19.0       7\n",
       "13.0       2\n",
       "16.0       1\n",
       "8.0        1\n",
       "11.0       1\n",
       "Name: count, dtype: int64"
      ]
     },
     "execution_count": 30,
     "metadata": {},
     "output_type": "execute_result"
    }
   ],
   "source": [
    "df[df.lesson_code==1815]['cohort_id'].value_counts()"
   ]
  },
  {
   "cell_type": "code",
   "execution_count": 31,
   "metadata": {},
   "outputs": [
    {
     "data": {
      "text/plain": [
       "(1813, 9)"
      ]
     },
     "execution_count": 31,
     "metadata": {},
     "output_type": "execute_result"
    }
   ],
   "source": [
    "df[df.lesson_code==506].shape"
   ]
  },
  {
   "cell_type": "markdown",
   "metadata": {},
   "source": [
    "## Not sig more"
   ]
  },
  {
   "cell_type": "code",
   "execution_count": 32,
   "metadata": {},
   "outputs": [
    {
     "data": {
      "text/plain": [
       "cohort_id\n",
       "28.0    645\n",
       "55.0    595\n",
       "34.0    521\n",
       "0.0      36\n",
       "59.0      8\n",
       "22.0      3\n",
       "32.0      2\n",
       "14.0      1\n",
       "21.0      1\n",
       "33.0      1\n",
       "Name: count, dtype: int64"
      ]
     },
     "execution_count": 32,
     "metadata": {},
     "output_type": "execute_result"
    }
   ],
   "source": [
    "df[df.lesson_code==506]['cohort_id'].value_counts()"
   ]
  },
  {
   "cell_type": "code",
   "execution_count": 33,
   "metadata": {},
   "outputs": [
    {
     "data": {
      "text/plain": [
       "(1917, 9)"
      ]
     },
     "execution_count": 33,
     "metadata": {},
     "output_type": "execute_result"
    }
   ],
   "source": [
    "df[df.lesson_code==1632].shape"
   ]
  },
  {
   "cell_type": "markdown",
   "metadata": {},
   "source": [
    "## Not sig more"
   ]
  },
  {
   "cell_type": "code",
   "execution_count": 34,
   "metadata": {},
   "outputs": [
    {
     "data": {
      "text/plain": [
       "cohort_id\n",
       "137.0    627\n",
       "28.0     467\n",
       "133.0    379\n",
       "59.0     308\n",
       "55.0     100\n",
       "34.0      24\n",
       "22.0       6\n",
       "0.0        5\n",
       "51.0       1\n",
       "Name: count, dtype: int64"
      ]
     },
     "execution_count": 34,
     "metadata": {},
     "output_type": "execute_result"
    }
   ],
   "source": [
    "df[df.lesson_code==1632]['cohort_id'].value_counts()"
   ]
  },
  {
   "cell_type": "code",
   "execution_count": 35,
   "metadata": {},
   "outputs": [
    {
     "data": {
      "text/plain": [
       "(2176, 9)"
      ]
     },
     "execution_count": 35,
     "metadata": {},
     "output_type": "execute_result"
    }
   ],
   "source": [
    "df[df.lesson_code==36].shape"
   ]
  },
  {
   "cell_type": "code",
   "execution_count": 36,
   "metadata": {},
   "outputs": [],
   "source": [
    "## Not sig more"
   ]
  },
  {
   "cell_type": "code",
   "execution_count": 37,
   "metadata": {},
   "outputs": [
    {
     "data": {
      "text/plain": [
       "cohort_id\n",
       "34.0     650\n",
       "59.0     470\n",
       "55.0     467\n",
       "28.0     455\n",
       "137.0     61\n",
       "0.0       26\n",
       "32.0       9\n",
       "33.0       7\n",
       "7.0        7\n",
       "133.0      7\n",
       "21.0       5\n",
       "24.0       3\n",
       "23.0       3\n",
       "22.0       2\n",
       "19.0       2\n",
       "31.0       1\n",
       "14.0       1\n",
       "Name: count, dtype: int64"
      ]
     },
     "execution_count": 37,
     "metadata": {},
     "output_type": "execute_result"
    }
   ],
   "source": [
    "df[df.lesson_code==36]['cohort_id'].value_counts()"
   ]
  },
  {
   "cell_type": "code",
   "execution_count": 38,
   "metadata": {},
   "outputs": [
    {
     "data": {
      "text/plain": [
       "(1910, 9)"
      ]
     },
     "execution_count": 38,
     "metadata": {},
     "output_type": "execute_result"
    }
   ],
   "source": [
    "df[df.lesson_code==1911].shape"
   ]
  },
  {
   "cell_type": "markdown",
   "metadata": {},
   "source": [
    "## Not sig more"
   ]
  },
  {
   "cell_type": "code",
   "execution_count": 39,
   "metadata": {},
   "outputs": [
    {
     "data": {
      "text/plain": [
       "cohort_id\n",
       "23.0    721\n",
       "22.0    595\n",
       "24.0    245\n",
       "21.0    168\n",
       "1.0      56\n",
       "0.0      44\n",
       "14.0     18\n",
       "25.0     18\n",
       "8.0      15\n",
       "18.0     14\n",
       "19.0      8\n",
       "13.0      2\n",
       "16.0      2\n",
       "4.0       1\n",
       "17.0      1\n",
       "15.0      1\n",
       "34.0      1\n",
       "Name: count, dtype: int64"
      ]
     },
     "execution_count": 39,
     "metadata": {},
     "output_type": "execute_result"
    }
   ],
   "source": [
    "df[df.lesson_code==1911]['cohort_id'].value_counts()"
   ]
  },
  {
   "cell_type": "code",
   "execution_count": 40,
   "metadata": {},
   "outputs": [
    {
     "data": {
      "text/plain": [
       "(2641, 9)"
      ]
     },
     "execution_count": 40,
     "metadata": {},
     "output_type": "execute_result"
    }
   ],
   "source": [
    "df[df.lesson_code==1093].shape"
   ]
  },
  {
   "cell_type": "markdown",
   "metadata": {},
   "source": [
    "## Not sig more"
   ]
  },
  {
   "cell_type": "code",
   "execution_count": 41,
   "metadata": {},
   "outputs": [
    {
     "data": {
      "text/plain": [
       "cohort_id\n",
       "59.0     1109\n",
       "28.0      851\n",
       "133.0     445\n",
       "55.0      136\n",
       "137.0      60\n",
       "34.0       35\n",
       "0.0         4\n",
       "22.0        1\n",
       "Name: count, dtype: int64"
      ]
     },
     "execution_count": 41,
     "metadata": {},
     "output_type": "execute_result"
    }
   ],
   "source": [
    "df[df.lesson_code==1093]['cohort_id'].value_counts()"
   ]
  },
  {
   "cell_type": "code",
   "execution_count": 42,
   "metadata": {},
   "outputs": [
    {
     "data": {
      "text/plain": [
       "(2, 9)"
      ]
     },
     "execution_count": 42,
     "metadata": {},
     "output_type": "execute_result"
    }
   ],
   "source": [
    "df[df.lesson_code==2016].shape"
   ]
  },
  {
   "cell_type": "markdown",
   "metadata": {},
   "source": [
    "## Not sig more"
   ]
  },
  {
   "cell_type": "code",
   "execution_count": 44,
   "metadata": {},
   "outputs": [
    {
     "data": {
      "text/plain": [
       "cohort_id\n",
       "4.0    1\n",
       "8.0    1\n",
       "Name: count, dtype: int64"
      ]
     },
     "execution_count": 44,
     "metadata": {},
     "output_type": "execute_result"
    }
   ],
   "source": [
    "df[df.lesson_code==2016]['cohort_id'].value_counts()"
   ]
  },
  {
   "cell_type": "code",
   "execution_count": 45,
   "metadata": {},
   "outputs": [
    {
     "data": {
      "text/html": [
       "<div>\n",
       "<style scoped>\n",
       "    .dataframe tbody tr th:only-of-type {\n",
       "        vertical-align: middle;\n",
       "    }\n",
       "\n",
       "    .dataframe tbody tr th {\n",
       "        vertical-align: top;\n",
       "    }\n",
       "\n",
       "    .dataframe thead th {\n",
       "        text-align: right;\n",
       "    }\n",
       "</style>\n",
       "<table border=\"1\" class=\"dataframe\">\n",
       "  <thead>\n",
       "    <tr style=\"text-align: right;\">\n",
       "      <th></th>\n",
       "      <th>lesson</th>\n",
       "      <th>user_id</th>\n",
       "      <th>cohort_id</th>\n",
       "      <th>ip</th>\n",
       "      <th>year</th>\n",
       "      <th>month</th>\n",
       "      <th>weekday</th>\n",
       "      <th>hour</th>\n",
       "      <th>lesson_code</th>\n",
       "    </tr>\n",
       "    <tr>\n",
       "      <th>datetime</th>\n",
       "      <th></th>\n",
       "      <th></th>\n",
       "      <th></th>\n",
       "      <th></th>\n",
       "      <th></th>\n",
       "      <th></th>\n",
       "      <th></th>\n",
       "      <th></th>\n",
       "      <th></th>\n",
       "    </tr>\n",
       "  </thead>\n",
       "  <tbody>\n",
       "    <tr>\n",
       "      <th>2018-01-30 11:37:47</th>\n",
       "      <td>content/laravel/intro</td>\n",
       "      <td>68</td>\n",
       "      <td>13.0</td>\n",
       "      <td>216.1.153.162</td>\n",
       "      <td>2018</td>\n",
       "      <td>January</td>\n",
       "      <td>Tuesday</td>\n",
       "      <td>11</td>\n",
       "      <td>1321</td>\n",
       "    </tr>\n",
       "    <tr>\n",
       "      <th>2018-01-30 11:38:33</th>\n",
       "      <td>content/laravel/intro</td>\n",
       "      <td>68</td>\n",
       "      <td>13.0</td>\n",
       "      <td>216.1.153.162</td>\n",
       "      <td>2018</td>\n",
       "      <td>January</td>\n",
       "      <td>Tuesday</td>\n",
       "      <td>11</td>\n",
       "      <td>1321</td>\n",
       "    </tr>\n",
       "    <tr>\n",
       "      <th>2018-01-30 12:45:50</th>\n",
       "      <td>content/laravel/intro</td>\n",
       "      <td>69</td>\n",
       "      <td>14.0</td>\n",
       "      <td>192.171.117.210</td>\n",
       "      <td>2018</td>\n",
       "      <td>January</td>\n",
       "      <td>Tuesday</td>\n",
       "      <td>12</td>\n",
       "      <td>1321</td>\n",
       "    </tr>\n",
       "    <tr>\n",
       "      <th>2018-01-30 12:55:56</th>\n",
       "      <td>content/laravel/intro</td>\n",
       "      <td>69</td>\n",
       "      <td>14.0</td>\n",
       "      <td>192.171.117.210</td>\n",
       "      <td>2018</td>\n",
       "      <td>January</td>\n",
       "      <td>Tuesday</td>\n",
       "      <td>12</td>\n",
       "      <td>1321</td>\n",
       "    </tr>\n",
       "    <tr>\n",
       "      <th>2018-01-30 13:07:27</th>\n",
       "      <td>content/laravel/intro</td>\n",
       "      <td>69</td>\n",
       "      <td>14.0</td>\n",
       "      <td>192.171.117.210</td>\n",
       "      <td>2018</td>\n",
       "      <td>January</td>\n",
       "      <td>Tuesday</td>\n",
       "      <td>13</td>\n",
       "      <td>1321</td>\n",
       "    </tr>\n",
       "    <tr>\n",
       "      <th>...</th>\n",
       "      <td>...</td>\n",
       "      <td>...</td>\n",
       "      <td>...</td>\n",
       "      <td>...</td>\n",
       "      <td>...</td>\n",
       "      <td>...</td>\n",
       "      <td>...</td>\n",
       "      <td>...</td>\n",
       "      <td>...</td>\n",
       "    </tr>\n",
       "    <tr>\n",
       "      <th>2021-02-26 09:39:42</th>\n",
       "      <td>content/laravel/intro</td>\n",
       "      <td>139</td>\n",
       "      <td>14.0</td>\n",
       "      <td>174.25.169.61</td>\n",
       "      <td>2021</td>\n",
       "      <td>February</td>\n",
       "      <td>Friday</td>\n",
       "      <td>9</td>\n",
       "      <td>1321</td>\n",
       "    </tr>\n",
       "    <tr>\n",
       "      <th>2021-03-02 00:37:01</th>\n",
       "      <td>content/laravel/intro</td>\n",
       "      <td>430</td>\n",
       "      <td>28.0</td>\n",
       "      <td>67.11.120.84</td>\n",
       "      <td>2021</td>\n",
       "      <td>March</td>\n",
       "      <td>Tuesday</td>\n",
       "      <td>0</td>\n",
       "      <td>1321</td>\n",
       "    </tr>\n",
       "    <tr>\n",
       "      <th>2021-03-31 13:26:35</th>\n",
       "      <td>content/laravel/intro</td>\n",
       "      <td>210</td>\n",
       "      <td>17.0</td>\n",
       "      <td>71.238.72.160</td>\n",
       "      <td>2021</td>\n",
       "      <td>March</td>\n",
       "      <td>Wednesday</td>\n",
       "      <td>13</td>\n",
       "      <td>1321</td>\n",
       "    </tr>\n",
       "    <tr>\n",
       "      <th>2021-03-31 13:26:46</th>\n",
       "      <td>content/laravel/intro</td>\n",
       "      <td>210</td>\n",
       "      <td>17.0</td>\n",
       "      <td>71.238.72.160</td>\n",
       "      <td>2021</td>\n",
       "      <td>March</td>\n",
       "      <td>Wednesday</td>\n",
       "      <td>13</td>\n",
       "      <td>1321</td>\n",
       "    </tr>\n",
       "    <tr>\n",
       "      <th>2021-03-31 16:41:31</th>\n",
       "      <td>content/laravel/intro</td>\n",
       "      <td>64</td>\n",
       "      <td>28.0</td>\n",
       "      <td>71.150.217.33</td>\n",
       "      <td>2021</td>\n",
       "      <td>March</td>\n",
       "      <td>Wednesday</td>\n",
       "      <td>16</td>\n",
       "      <td>1321</td>\n",
       "    </tr>\n",
       "  </tbody>\n",
       "</table>\n",
       "<p>261 rows × 9 columns</p>\n",
       "</div>"
      ],
      "text/plain": [
       "                                    lesson  user_id  cohort_id  \\\n",
       "datetime                                                         \n",
       "2018-01-30 11:37:47  content/laravel/intro       68       13.0   \n",
       "2018-01-30 11:38:33  content/laravel/intro       68       13.0   \n",
       "2018-01-30 12:45:50  content/laravel/intro       69       14.0   \n",
       "2018-01-30 12:55:56  content/laravel/intro       69       14.0   \n",
       "2018-01-30 13:07:27  content/laravel/intro       69       14.0   \n",
       "...                                    ...      ...        ...   \n",
       "2021-02-26 09:39:42  content/laravel/intro      139       14.0   \n",
       "2021-03-02 00:37:01  content/laravel/intro      430       28.0   \n",
       "2021-03-31 13:26:35  content/laravel/intro      210       17.0   \n",
       "2021-03-31 13:26:46  content/laravel/intro      210       17.0   \n",
       "2021-03-31 16:41:31  content/laravel/intro       64       28.0   \n",
       "\n",
       "                                  ip  year     month    weekday  hour  \\\n",
       "datetime                                                                \n",
       "2018-01-30 11:37:47    216.1.153.162  2018   January    Tuesday    11   \n",
       "2018-01-30 11:38:33    216.1.153.162  2018   January    Tuesday    11   \n",
       "2018-01-30 12:45:50  192.171.117.210  2018   January    Tuesday    12   \n",
       "2018-01-30 12:55:56  192.171.117.210  2018   January    Tuesday    12   \n",
       "2018-01-30 13:07:27  192.171.117.210  2018   January    Tuesday    13   \n",
       "...                              ...   ...       ...        ...   ...   \n",
       "2021-02-26 09:39:42    174.25.169.61  2021  February     Friday     9   \n",
       "2021-03-02 00:37:01     67.11.120.84  2021     March    Tuesday     0   \n",
       "2021-03-31 13:26:35    71.238.72.160  2021     March  Wednesday    13   \n",
       "2021-03-31 13:26:46    71.238.72.160  2021     March  Wednesday    13   \n",
       "2021-03-31 16:41:31    71.150.217.33  2021     March  Wednesday    16   \n",
       "\n",
       "                     lesson_code  \n",
       "datetime                          \n",
       "2018-01-30 11:37:47         1321  \n",
       "2018-01-30 11:38:33         1321  \n",
       "2018-01-30 12:45:50         1321  \n",
       "2018-01-30 12:55:56         1321  \n",
       "2018-01-30 13:07:27         1321  \n",
       "...                          ...  \n",
       "2021-02-26 09:39:42         1321  \n",
       "2021-03-02 00:37:01         1321  \n",
       "2021-03-31 13:26:35         1321  \n",
       "2021-03-31 13:26:46         1321  \n",
       "2021-03-31 16:41:31         1321  \n",
       "\n",
       "[261 rows x 9 columns]"
      ]
     },
     "execution_count": 45,
     "metadata": {},
     "output_type": "execute_result"
    }
   ],
   "source": [
    "df[df.lesson_code==1321]"
   ]
  },
  {
   "cell_type": "markdown",
   "metadata": {},
   "source": [
    "## Cohort number 13 refers to content/laravel/intro (lesson code 1321) more than others. With low overall visits and cohort 13 doubling visits of cohort with second most visits, it seems other cohorts glossed over it and cohort 13 reffered to it more often"
   ]
  },
  {
   "cell_type": "markdown",
   "metadata": {},
   "source": [
    "# 3. Are there students who, when active, hardly access the curriculum? If so, what information do you have about these students?\n"
   ]
  },
  {
   "cell_type": "code",
   "execution_count": 46,
   "metadata": {},
   "outputs": [
    {
     "data": {
      "text/plain": [
       "user_id\n",
       "593    1\n",
       "165    1\n",
       "652    1\n",
       "574    1\n",
       "212    1\n",
       "Name: count, dtype: int64"
      ]
     },
     "execution_count": 46,
     "metadata": {},
     "output_type": "execute_result"
    }
   ],
   "source": [
    "lowest = df.user_id.value_counts().tail()\n",
    "lowest"
   ]
  },
  {
   "cell_type": "markdown",
   "metadata": {},
   "source": [
    "## People should visit lessons once a day (150ish times) over their time at codeup if they don't drop out. Let's look at students who stayed only, because people who didnt will not have many visits."
   ]
  },
  {
   "cell_type": "code",
   "execution_count": 47,
   "metadata": {},
   "outputs": [
    {
     "data": {
      "text/plain": [
       "user_id\n",
       "56     163\n",
       "966    163\n",
       "411    161\n",
       "86     161\n",
       "93     160\n",
       "298    159\n",
       "284    159\n",
       "175    156\n",
       "513    153\n",
       "923    151\n",
       "Name: count, dtype: int64"
      ]
     },
     "execution_count": 47,
     "metadata": {},
     "output_type": "execute_result"
    }
   ],
   "source": [
    "low_active = df.user_id.value_counts()[df.user_id.value_counts() > 150]\n",
    "lowest = low_active.tail(10)\n",
    "lowest"
   ]
  },
  {
   "cell_type": "markdown",
   "metadata": {},
   "source": [
    "## DF using only the 10 least active students that opened at least 150 times"
   ]
  },
  {
   "cell_type": "code",
   "execution_count": 61,
   "metadata": {},
   "outputs": [
    {
     "data": {
      "text/html": [
       "<div>\n",
       "<style scoped>\n",
       "    .dataframe tbody tr th:only-of-type {\n",
       "        vertical-align: middle;\n",
       "    }\n",
       "\n",
       "    .dataframe tbody tr th {\n",
       "        vertical-align: top;\n",
       "    }\n",
       "\n",
       "    .dataframe thead th {\n",
       "        text-align: right;\n",
       "    }\n",
       "</style>\n",
       "<table border=\"1\" class=\"dataframe\">\n",
       "  <thead>\n",
       "    <tr style=\"text-align: right;\">\n",
       "      <th></th>\n",
       "      <th>lesson</th>\n",
       "      <th>user_id</th>\n",
       "      <th>cohort_id</th>\n",
       "      <th>ip</th>\n",
       "      <th>year</th>\n",
       "      <th>month</th>\n",
       "      <th>weekday</th>\n",
       "      <th>hour</th>\n",
       "      <th>lesson_code</th>\n",
       "    </tr>\n",
       "    <tr>\n",
       "      <th>datetime</th>\n",
       "      <th></th>\n",
       "      <th></th>\n",
       "      <th></th>\n",
       "      <th></th>\n",
       "      <th></th>\n",
       "      <th></th>\n",
       "      <th></th>\n",
       "      <th></th>\n",
       "      <th></th>\n",
       "    </tr>\n",
       "  </thead>\n",
       "  <tbody>\n",
       "    <tr>\n",
       "      <th>2018-01-29 09:40:38</th>\n",
       "      <td>spring/fundamentals/relationships</td>\n",
       "      <td>56</td>\n",
       "      <td>21.0</td>\n",
       "      <td>97.105.19.61</td>\n",
       "      <td>2018</td>\n",
       "      <td>January</td>\n",
       "      <td>Monday</td>\n",
       "      <td>9</td>\n",
       "      <td>2161</td>\n",
       "    </tr>\n",
       "    <tr>\n",
       "      <th>2018-01-29 09:40:41</th>\n",
       "      <td>spring/fundamentals/form-model-binding</td>\n",
       "      <td>56</td>\n",
       "      <td>21.0</td>\n",
       "      <td>97.105.19.61</td>\n",
       "      <td>2018</td>\n",
       "      <td>January</td>\n",
       "      <td>Monday</td>\n",
       "      <td>9</td>\n",
       "      <td>2159</td>\n",
       "    </tr>\n",
       "    <tr>\n",
       "      <th>2018-01-29 09:40:44</th>\n",
       "      <td>spring/fundamentals/controllers</td>\n",
       "      <td>56</td>\n",
       "      <td>21.0</td>\n",
       "      <td>97.105.19.61</td>\n",
       "      <td>2018</td>\n",
       "      <td>January</td>\n",
       "      <td>Monday</td>\n",
       "      <td>9</td>\n",
       "      <td>2158</td>\n",
       "    </tr>\n",
       "    <tr>\n",
       "      <th>2018-01-29 09:40:48</th>\n",
       "      <td>spring</td>\n",
       "      <td>56</td>\n",
       "      <td>21.0</td>\n",
       "      <td>97.105.19.61</td>\n",
       "      <td>2018</td>\n",
       "      <td>January</td>\n",
       "      <td>Monday</td>\n",
       "      <td>9</td>\n",
       "      <td>2148</td>\n",
       "    </tr>\n",
       "    <tr>\n",
       "      <th>2018-01-29 12:31:31</th>\n",
       "      <td>java-iii</td>\n",
       "      <td>56</td>\n",
       "      <td>21.0</td>\n",
       "      <td>97.105.19.61</td>\n",
       "      <td>2018</td>\n",
       "      <td>January</td>\n",
       "      <td>Monday</td>\n",
       "      <td>12</td>\n",
       "      <td>1767</td>\n",
       "    </tr>\n",
       "    <tr>\n",
       "      <th>...</th>\n",
       "      <td>...</td>\n",
       "      <td>...</td>\n",
       "      <td>...</td>\n",
       "      <td>...</td>\n",
       "      <td>...</td>\n",
       "      <td>...</td>\n",
       "      <td>...</td>\n",
       "      <td>...</td>\n",
       "      <td>...</td>\n",
       "    </tr>\n",
       "    <tr>\n",
       "      <th>2021-04-21 10:15:09</th>\n",
       "      <td>javascript-i/introduction/operators</td>\n",
       "      <td>966</td>\n",
       "      <td>139.0</td>\n",
       "      <td>136.50.72.144</td>\n",
       "      <td>2021</td>\n",
       "      <td>April</td>\n",
       "      <td>Wednesday</td>\n",
       "      <td>10</td>\n",
       "      <td>1815</td>\n",
       "    </tr>\n",
       "    <tr>\n",
       "      <th>2021-04-21 10:27:32</th>\n",
       "      <td>javascript-i/introduction/variables</td>\n",
       "      <td>966</td>\n",
       "      <td>139.0</td>\n",
       "      <td>136.50.72.144</td>\n",
       "      <td>2021</td>\n",
       "      <td>April</td>\n",
       "      <td>Wednesday</td>\n",
       "      <td>10</td>\n",
       "      <td>1817</td>\n",
       "    </tr>\n",
       "    <tr>\n",
       "      <th>2021-04-21 10:28:10</th>\n",
       "      <td>javascript-i/introduction/operators</td>\n",
       "      <td>966</td>\n",
       "      <td>139.0</td>\n",
       "      <td>136.50.72.144</td>\n",
       "      <td>2021</td>\n",
       "      <td>April</td>\n",
       "      <td>Wednesday</td>\n",
       "      <td>10</td>\n",
       "      <td>1815</td>\n",
       "    </tr>\n",
       "    <tr>\n",
       "      <th>2021-04-21 10:52:46</th>\n",
       "      <td>javascript-i/arrays</td>\n",
       "      <td>966</td>\n",
       "      <td>139.0</td>\n",
       "      <td>136.50.72.144</td>\n",
       "      <td>2021</td>\n",
       "      <td>April</td>\n",
       "      <td>Wednesday</td>\n",
       "      <td>10</td>\n",
       "      <td>1795</td>\n",
       "    </tr>\n",
       "    <tr>\n",
       "      <th>2021-04-21 10:54:23</th>\n",
       "      <td>javascript-i/introduction/operators</td>\n",
       "      <td>966</td>\n",
       "      <td>139.0</td>\n",
       "      <td>136.50.72.144</td>\n",
       "      <td>2021</td>\n",
       "      <td>April</td>\n",
       "      <td>Wednesday</td>\n",
       "      <td>10</td>\n",
       "      <td>1815</td>\n",
       "    </tr>\n",
       "  </tbody>\n",
       "</table>\n",
       "<p>1586 rows × 9 columns</p>\n",
       "</div>"
      ],
      "text/plain": [
       "                                                     lesson  user_id  \\\n",
       "datetime                                                               \n",
       "2018-01-29 09:40:38       spring/fundamentals/relationships       56   \n",
       "2018-01-29 09:40:41  spring/fundamentals/form-model-binding       56   \n",
       "2018-01-29 09:40:44         spring/fundamentals/controllers       56   \n",
       "2018-01-29 09:40:48                                  spring       56   \n",
       "2018-01-29 12:31:31                                java-iii       56   \n",
       "...                                                     ...      ...   \n",
       "2021-04-21 10:15:09     javascript-i/introduction/operators      966   \n",
       "2021-04-21 10:27:32     javascript-i/introduction/variables      966   \n",
       "2021-04-21 10:28:10     javascript-i/introduction/operators      966   \n",
       "2021-04-21 10:52:46                     javascript-i/arrays      966   \n",
       "2021-04-21 10:54:23     javascript-i/introduction/operators      966   \n",
       "\n",
       "                     cohort_id             ip  year    month    weekday  hour  \\\n",
       "datetime                                                                        \n",
       "2018-01-29 09:40:38       21.0   97.105.19.61  2018  January     Monday     9   \n",
       "2018-01-29 09:40:41       21.0   97.105.19.61  2018  January     Monday     9   \n",
       "2018-01-29 09:40:44       21.0   97.105.19.61  2018  January     Monday     9   \n",
       "2018-01-29 09:40:48       21.0   97.105.19.61  2018  January     Monday     9   \n",
       "2018-01-29 12:31:31       21.0   97.105.19.61  2018  January     Monday    12   \n",
       "...                        ...            ...   ...      ...        ...   ...   \n",
       "2021-04-21 10:15:09      139.0  136.50.72.144  2021    April  Wednesday    10   \n",
       "2021-04-21 10:27:32      139.0  136.50.72.144  2021    April  Wednesday    10   \n",
       "2021-04-21 10:28:10      139.0  136.50.72.144  2021    April  Wednesday    10   \n",
       "2021-04-21 10:52:46      139.0  136.50.72.144  2021    April  Wednesday    10   \n",
       "2021-04-21 10:54:23      139.0  136.50.72.144  2021    April  Wednesday    10   \n",
       "\n",
       "                     lesson_code  \n",
       "datetime                          \n",
       "2018-01-29 09:40:38         2161  \n",
       "2018-01-29 09:40:41         2159  \n",
       "2018-01-29 09:40:44         2158  \n",
       "2018-01-29 09:40:48         2148  \n",
       "2018-01-29 12:31:31         1767  \n",
       "...                          ...  \n",
       "2021-04-21 10:15:09         1815  \n",
       "2021-04-21 10:27:32         1817  \n",
       "2021-04-21 10:28:10         1815  \n",
       "2021-04-21 10:52:46         1795  \n",
       "2021-04-21 10:54:23         1815  \n",
       "\n",
       "[1586 rows x 9 columns]"
      ]
     },
     "execution_count": 61,
     "metadata": {},
     "output_type": "execute_result"
    }
   ],
   "source": [
    "# DF using only the 10 least active students that opened at least 150 times\n",
    "baby_df = df[(df.user_id==56) | (df.user_id==966) | (df.user_id==411) | (df.user_id==86) | (df.user_id==93) | (df.user_id==298) | (df.user_id==284) | (df.user_id==175) | (df.user_id==513) | (df.user_id==923)]\n",
    "baby_df"
   ]
  },
  {
   "cell_type": "code",
   "execution_count": 49,
   "metadata": {},
   "outputs": [
    {
     "data": {
      "text/plain": [
       "lesson\n",
       "html-css                                                                     62\n",
       "javascript-i/javascript-with-html                                            55\n",
       "javascript-i/introduction/working-with-data-types-operators-and-variables    53\n",
       "javascript-i/introduction/operators                                          53\n",
       "javascript-i/introduction/primitive-types                                    53\n",
       "                                                                             ..\n",
       "java-i/syntax-types-and-variables                                             1\n",
       "slides/jsp_and_jstl                                                           1\n",
       "slides/mvc                                                                    1\n",
       "slides/sessions_and_cookies                                                   1\n",
       "appendix/further-reading/javascript/hoisting                                  1\n",
       "Name: count, Length: 226, dtype: int64"
      ]
     },
     "execution_count": 49,
     "metadata": {},
     "output_type": "execute_result"
    }
   ],
   "source": [
    "baby_df.lesson.value_counts()"
   ]
  },
  {
   "cell_type": "code",
   "execution_count": 50,
   "metadata": {},
   "outputs": [
    {
     "data": {
      "text/plain": [
       "cohort_id\n",
       "21.0     319\n",
       "139.0    163\n",
       "0.0      161\n",
       "32.0     161\n",
       "13.0     160\n",
       "22.0     159\n",
       "27.0     159\n",
       "138.0    151\n",
       "28.0     124\n",
       "7.0       29\n",
       "Name: count, dtype: int64"
      ]
     },
     "execution_count": 50,
     "metadata": {},
     "output_type": "execute_result"
    }
   ],
   "source": [
    "baby_df.cohort_id.value_counts()"
   ]
  },
  {
   "cell_type": "code",
   "execution_count": 51,
   "metadata": {},
   "outputs": [
    {
     "data": {
      "text/plain": [
       "year\n",
       "2018    729\n",
       "2021    438\n",
       "2019    308\n",
       "2020    111\n",
       "Name: count, dtype: int64"
      ]
     },
     "execution_count": 51,
     "metadata": {},
     "output_type": "execute_result"
    }
   ],
   "source": [
    "baby_df.year.value_counts()"
   ]
  },
  {
   "cell_type": "code",
   "execution_count": 52,
   "metadata": {},
   "outputs": [
    {
     "data": {
      "text/plain": [
       "weekday\n",
       "Monday       355\n",
       "Thursday     292\n",
       "Friday       281\n",
       "Wednesday    277\n",
       "Tuesday      264\n",
       "Sunday        90\n",
       "Saturday      27\n",
       "Name: count, dtype: int64"
      ]
     },
     "execution_count": 52,
     "metadata": {},
     "output_type": "execute_result"
    }
   ],
   "source": [
    "baby_df.weekday.value_counts()"
   ]
  },
  {
   "cell_type": "code",
   "execution_count": 53,
   "metadata": {},
   "outputs": [
    {
     "data": {
      "text/plain": [
       "hour\n",
       "9     188\n",
       "15    179\n",
       "14    164\n",
       "10    147\n",
       "16    142\n",
       "11    127\n",
       "12    104\n",
       "13     93\n",
       "21     68\n",
       "8      65\n",
       "17     55\n",
       "20     54\n",
       "22     50\n",
       "19     30\n",
       "23     29\n",
       "2      19\n",
       "18     14\n",
       "3      14\n",
       "1      13\n",
       "4      10\n",
       "7      10\n",
       "0       6\n",
       "6       3\n",
       "5       2\n",
       "Name: count, dtype: int64"
      ]
     },
     "execution_count": 53,
     "metadata": {},
     "output_type": "execute_result"
    }
   ],
   "source": [
    "baby_df.hour.value_counts()"
   ]
  },
  {
   "cell_type": "markdown",
   "metadata": {},
   "source": [
    "## Yes, there are students who do not access the curriculum as often as others. Cohort number 21 in 2018 was most common for active students who accessed the curriculum minimally (bottom 10 students). These students were mostly accessing html-css and looked at the lessons most on Mondays and less every day after that. They also looked at the lessons the most at 9am (when class starts) and less as the day went on."
   ]
  },
  {
   "cell_type": "markdown",
   "metadata": {},
   "source": [
    "# 4. Which lessons are least accessed?"
   ]
  },
  {
   "cell_type": "code",
   "execution_count": 62,
   "metadata": {},
   "outputs": [
    {
     "data": {
      "text/plain": [
       "lesson\n",
       "2.00.05_Charts_PivotTables_Sparklines    108\n",
       "13-advanced-topics/2-cross-validation    107\n",
       "content/mysql/intro-to-mysql             107\n",
       "content/javascript_ii                    106\n",
       "12-distributed-ml/6-ml-with-spark        106\n",
       "storytelling/creating-charts             105\n",
       "appendix/angular/templating              105\n",
       "3.5.0-clauses-overview                   103\n",
       "8.1_Overview                             102\n",
       "4-python/7.4.1-pandas-overview           102\n",
       "Name: count, dtype: int64"
      ]
     },
     "execution_count": 62,
     "metadata": {},
     "output_type": "execute_result"
    }
   ],
   "source": [
    "# Bottom 10 of lessons with over 100 views\n",
    "no_low_lesson = df.lesson.value_counts()[df.lesson.value_counts() > 100]\n",
    "no_low_lesson.tail(10)"
   ]
  },
  {
   "cell_type": "markdown",
   "metadata": {},
   "source": [
    "## Above are the 10 least accessed lessons of lessons with over 100 views"
   ]
  },
  {
   "cell_type": "markdown",
   "metadata": {},
   "source": [
    "# 5. Is there any suspicious activity, such as users/machines/etc accessing the curriculum who shouldn’t be? Does it appear that any web-scraping is happening? Are there any suspicious IP addresses?"
   ]
  },
  {
   "cell_type": "code",
   "execution_count": 55,
   "metadata": {},
   "outputs": [
    {
     "data": {
      "text/plain": [
       "cohort_id\n",
       "28.0     77691\n",
       "0.0      48434\n",
       "33.0     39077\n",
       "29.0     36298\n",
       "62.0     35413\n",
       "53.0     34864\n",
       "24.0     33535\n",
       "56.0     32222\n",
       "57.0     32117\n",
       "51.0     31421\n",
       "22.0     29098\n",
       "59.0     29035\n",
       "58.0     28490\n",
       "32.0     28401\n",
       "23.0     26893\n",
       "26.0     26825\n",
       "52.0     26738\n",
       "34.0     24571\n",
       "25.0     24454\n",
       "31.0     24185\n",
       "132.0    22752\n",
       "55.0     19870\n",
       "27.0     19762\n",
       "61.0     16941\n",
       "134.0    16132\n",
       "135.0    15698\n",
       "133.0    13600\n",
       "14.0      9462\n",
       "1.0       8264\n",
       "137.0     7978\n",
       "21.0      6814\n",
       "138.0     6804\n",
       "17.0      4705\n",
       "13.0      2626\n",
       "18.0      2009\n",
       "139.0     1541\n",
       "8.0       1502\n",
       "19.0      1086\n",
       "16.0       718\n",
       "15.0       658\n",
       "7.0        547\n",
       "12.0       294\n",
       "11.0       234\n",
       "2.0         76\n",
       "6.0         68\n",
       "9.0          4\n",
       "4.0          3\n",
       "Name: count, dtype: int64"
      ]
     },
     "execution_count": 55,
     "metadata": {},
     "output_type": "execute_result"
    }
   ],
   "source": [
    "df.cohort_id.value_counts()"
   ]
  },
  {
   "cell_type": "markdown",
   "metadata": {},
   "source": [
    "## Cohort 0 is no cohort listed, which is probably alumni and staff, but this is where I will start looking for anything suspicious"
   ]
  },
  {
   "cell_type": "code",
   "execution_count": 56,
   "metadata": {},
   "outputs": [
    {
     "data": {
      "text/html": [
       "<div>\n",
       "<style scoped>\n",
       "    .dataframe tbody tr th:only-of-type {\n",
       "        vertical-align: middle;\n",
       "    }\n",
       "\n",
       "    .dataframe tbody tr th {\n",
       "        vertical-align: top;\n",
       "    }\n",
       "\n",
       "    .dataframe thead th {\n",
       "        text-align: right;\n",
       "    }\n",
       "</style>\n",
       "<table border=\"1\" class=\"dataframe\">\n",
       "  <thead>\n",
       "    <tr style=\"text-align: right;\">\n",
       "      <th></th>\n",
       "      <th>lesson</th>\n",
       "      <th>user_id</th>\n",
       "      <th>cohort_id</th>\n",
       "      <th>ip</th>\n",
       "      <th>year</th>\n",
       "      <th>month</th>\n",
       "      <th>weekday</th>\n",
       "      <th>hour</th>\n",
       "      <th>lesson_code</th>\n",
       "    </tr>\n",
       "    <tr>\n",
       "      <th>datetime</th>\n",
       "      <th></th>\n",
       "      <th></th>\n",
       "      <th></th>\n",
       "      <th></th>\n",
       "      <th></th>\n",
       "      <th></th>\n",
       "      <th></th>\n",
       "      <th></th>\n",
       "      <th></th>\n",
       "    </tr>\n",
       "  </thead>\n",
       "  <tbody>\n",
       "    <tr>\n",
       "      <th>2018-01-26 16:46:24</th>\n",
       "      <td>spring/extra-features/form-validation</td>\n",
       "      <td>48</td>\n",
       "      <td>0.0</td>\n",
       "      <td>97.105.19.61</td>\n",
       "      <td>2018</td>\n",
       "      <td>January</td>\n",
       "      <td>Friday</td>\n",
       "      <td>16</td>\n",
       "      <td>2154</td>\n",
       "    </tr>\n",
       "    <tr>\n",
       "      <th>2018-01-26 18:32:17</th>\n",
       "      <td>mysql/relationships/joins</td>\n",
       "      <td>48</td>\n",
       "      <td>0.0</td>\n",
       "      <td>97.105.19.61</td>\n",
       "      <td>2018</td>\n",
       "      <td>January</td>\n",
       "      <td>Friday</td>\n",
       "      <td>18</td>\n",
       "      <td>1956</td>\n",
       "    </tr>\n",
       "    <tr>\n",
       "      <th>2018-01-26 18:32:33</th>\n",
       "      <td>mysql/tables</td>\n",
       "      <td>48</td>\n",
       "      <td>0.0</td>\n",
       "      <td>97.105.19.61</td>\n",
       "      <td>2018</td>\n",
       "      <td>January</td>\n",
       "      <td>Friday</td>\n",
       "      <td>18</td>\n",
       "      <td>1959</td>\n",
       "    </tr>\n",
       "    <tr>\n",
       "      <th>2018-01-26 18:32:37</th>\n",
       "      <td>mysql/databases</td>\n",
       "      <td>48</td>\n",
       "      <td>0.0</td>\n",
       "      <td>97.105.19.61</td>\n",
       "      <td>2018</td>\n",
       "      <td>January</td>\n",
       "      <td>Friday</td>\n",
       "      <td>18</td>\n",
       "      <td>1940</td>\n",
       "    </tr>\n",
       "    <tr>\n",
       "      <th>2018-01-26 18:32:43</th>\n",
       "      <td>mysql/relationships</td>\n",
       "      <td>48</td>\n",
       "      <td>0.0</td>\n",
       "      <td>97.105.19.61</td>\n",
       "      <td>2018</td>\n",
       "      <td>January</td>\n",
       "      <td>Friday</td>\n",
       "      <td>18</td>\n",
       "      <td>1954</td>\n",
       "    </tr>\n",
       "    <tr>\n",
       "      <th>...</th>\n",
       "      <td>...</td>\n",
       "      <td>...</td>\n",
       "      <td>...</td>\n",
       "      <td>...</td>\n",
       "      <td>...</td>\n",
       "      <td>...</td>\n",
       "      <td>...</td>\n",
       "      <td>...</td>\n",
       "      <td>...</td>\n",
       "    </tr>\n",
       "    <tr>\n",
       "      <th>2021-04-21 12:49:00</th>\n",
       "      <td>javascript-ii</td>\n",
       "      <td>717</td>\n",
       "      <td>0.0</td>\n",
       "      <td>136.50.102.126</td>\n",
       "      <td>2021</td>\n",
       "      <td>April</td>\n",
       "      <td>Wednesday</td>\n",
       "      <td>12</td>\n",
       "      <td>1837</td>\n",
       "    </tr>\n",
       "    <tr>\n",
       "      <th>2021-04-21 12:49:02</th>\n",
       "      <td>javascript-ii/es6</td>\n",
       "      <td>717</td>\n",
       "      <td>0.0</td>\n",
       "      <td>136.50.102.126</td>\n",
       "      <td>2021</td>\n",
       "      <td>April</td>\n",
       "      <td>Wednesday</td>\n",
       "      <td>12</td>\n",
       "      <td>1840</td>\n",
       "    </tr>\n",
       "    <tr>\n",
       "      <th>2021-04-21 12:51:27</th>\n",
       "      <td>javascript-ii/map-filter-reduce</td>\n",
       "      <td>717</td>\n",
       "      <td>0.0</td>\n",
       "      <td>136.50.102.126</td>\n",
       "      <td>2021</td>\n",
       "      <td>April</td>\n",
       "      <td>Wednesday</td>\n",
       "      <td>12</td>\n",
       "      <td>1841</td>\n",
       "    </tr>\n",
       "    <tr>\n",
       "      <th>2021-04-21 12:52:37</th>\n",
       "      <td>javascript-ii/promises</td>\n",
       "      <td>717</td>\n",
       "      <td>0.0</td>\n",
       "      <td>136.50.102.126</td>\n",
       "      <td>2021</td>\n",
       "      <td>April</td>\n",
       "      <td>Wednesday</td>\n",
       "      <td>12</td>\n",
       "      <td>1844</td>\n",
       "    </tr>\n",
       "    <tr>\n",
       "      <th>2021-04-21 12:56:26</th>\n",
       "      <td>javascript-ii/RESTful-api</td>\n",
       "      <td>717</td>\n",
       "      <td>0.0</td>\n",
       "      <td>136.50.102.126</td>\n",
       "      <td>2021</td>\n",
       "      <td>April</td>\n",
       "      <td>Wednesday</td>\n",
       "      <td>12</td>\n",
       "      <td>1838</td>\n",
       "    </tr>\n",
       "  </tbody>\n",
       "</table>\n",
       "<p>48434 rows × 9 columns</p>\n",
       "</div>"
      ],
      "text/plain": [
       "                                                    lesson  user_id  \\\n",
       "datetime                                                              \n",
       "2018-01-26 16:46:24  spring/extra-features/form-validation       48   \n",
       "2018-01-26 18:32:17              mysql/relationships/joins       48   \n",
       "2018-01-26 18:32:33                           mysql/tables       48   \n",
       "2018-01-26 18:32:37                        mysql/databases       48   \n",
       "2018-01-26 18:32:43                    mysql/relationships       48   \n",
       "...                                                    ...      ...   \n",
       "2021-04-21 12:49:00                          javascript-ii      717   \n",
       "2021-04-21 12:49:02                      javascript-ii/es6      717   \n",
       "2021-04-21 12:51:27        javascript-ii/map-filter-reduce      717   \n",
       "2021-04-21 12:52:37                 javascript-ii/promises      717   \n",
       "2021-04-21 12:56:26              javascript-ii/RESTful-api      717   \n",
       "\n",
       "                     cohort_id              ip  year    month    weekday  \\\n",
       "datetime                                                                   \n",
       "2018-01-26 16:46:24        0.0    97.105.19.61  2018  January     Friday   \n",
       "2018-01-26 18:32:17        0.0    97.105.19.61  2018  January     Friday   \n",
       "2018-01-26 18:32:33        0.0    97.105.19.61  2018  January     Friday   \n",
       "2018-01-26 18:32:37        0.0    97.105.19.61  2018  January     Friday   \n",
       "2018-01-26 18:32:43        0.0    97.105.19.61  2018  January     Friday   \n",
       "...                        ...             ...   ...      ...        ...   \n",
       "2021-04-21 12:49:00        0.0  136.50.102.126  2021    April  Wednesday   \n",
       "2021-04-21 12:49:02        0.0  136.50.102.126  2021    April  Wednesday   \n",
       "2021-04-21 12:51:27        0.0  136.50.102.126  2021    April  Wednesday   \n",
       "2021-04-21 12:52:37        0.0  136.50.102.126  2021    April  Wednesday   \n",
       "2021-04-21 12:56:26        0.0  136.50.102.126  2021    April  Wednesday   \n",
       "\n",
       "                     hour  lesson_code  \n",
       "datetime                                \n",
       "2018-01-26 16:46:24    16         2154  \n",
       "2018-01-26 18:32:17    18         1956  \n",
       "2018-01-26 18:32:33    18         1959  \n",
       "2018-01-26 18:32:37    18         1940  \n",
       "2018-01-26 18:32:43    18         1954  \n",
       "...                   ...          ...  \n",
       "2021-04-21 12:49:00    12         1837  \n",
       "2021-04-21 12:49:02    12         1840  \n",
       "2021-04-21 12:51:27    12         1841  \n",
       "2021-04-21 12:52:37    12         1844  \n",
       "2021-04-21 12:56:26    12         1838  \n",
       "\n",
       "[48434 rows x 9 columns]"
      ]
     },
     "execution_count": 56,
     "metadata": {},
     "output_type": "execute_result"
    }
   ],
   "source": [
    "# Df for no cohort\n",
    "no_cohort_df = df[df.cohort_id == 0]\n",
    "no_cohort_df"
   ]
  },
  {
   "cell_type": "code",
   "execution_count": 57,
   "metadata": {},
   "outputs": [
    {
     "data": {
      "text/plain": [
       "hour\n",
       "9     6591\n",
       "14    5135\n",
       "11    4835\n",
       "10    4387\n",
       "15    4197\n",
       "13    4099\n",
       "16    3481\n",
       "12    2959\n",
       "8     2260\n",
       "20    1470\n",
       "21    1424\n",
       "22    1343\n",
       "17    1256\n",
       "19    1108\n",
       "18     977\n",
       "23     800\n",
       "0      517\n",
       "7      445\n",
       "1      431\n",
       "2      228\n",
       "5      190\n",
       "6      136\n",
       "4       93\n",
       "3       72\n",
       "Name: count, dtype: int64"
      ]
     },
     "execution_count": 57,
     "metadata": {},
     "output_type": "execute_result"
    }
   ],
   "source": [
    "no_cohort_df.hour.value_counts()"
   ]
  },
  {
   "cell_type": "code",
   "execution_count": 58,
   "metadata": {},
   "outputs": [
    {
     "data": {
      "text/plain": [
       "weekday\n",
       "Monday       9995\n",
       "Thursday     9432\n",
       "Tuesday      9181\n",
       "Wednesday    8046\n",
       "Friday       7185\n",
       "Sunday       2644\n",
       "Saturday     1951\n",
       "Name: count, dtype: int64"
      ]
     },
     "execution_count": 58,
     "metadata": {},
     "output_type": "execute_result"
    }
   ],
   "source": [
    "no_cohort_df.weekday.value_counts()"
   ]
  },
  {
   "cell_type": "code",
   "execution_count": 59,
   "metadata": {},
   "outputs": [
    {
     "data": {
      "text/html": [
       "<div>\n",
       "<style scoped>\n",
       "    .dataframe tbody tr th:only-of-type {\n",
       "        vertical-align: middle;\n",
       "    }\n",
       "\n",
       "    .dataframe tbody tr th {\n",
       "        vertical-align: top;\n",
       "    }\n",
       "\n",
       "    .dataframe thead th {\n",
       "        text-align: right;\n",
       "    }\n",
       "</style>\n",
       "<table border=\"1\" class=\"dataframe\">\n",
       "  <thead>\n",
       "    <tr style=\"text-align: right;\">\n",
       "      <th></th>\n",
       "      <th>hour</th>\n",
       "      <th>weekday</th>\n",
       "      <th>count</th>\n",
       "    </tr>\n",
       "  </thead>\n",
       "  <tbody>\n",
       "    <tr>\n",
       "      <th>0</th>\n",
       "      <td>9</td>\n",
       "      <td>Thursday</td>\n",
       "      <td>1447</td>\n",
       "    </tr>\n",
       "    <tr>\n",
       "      <th>1</th>\n",
       "      <td>9</td>\n",
       "      <td>Monday</td>\n",
       "      <td>1444</td>\n",
       "    </tr>\n",
       "    <tr>\n",
       "      <th>3</th>\n",
       "      <td>9</td>\n",
       "      <td>Friday</td>\n",
       "      <td>1307</td>\n",
       "    </tr>\n",
       "    <tr>\n",
       "      <th>5</th>\n",
       "      <td>9</td>\n",
       "      <td>Tuesday</td>\n",
       "      <td>1197</td>\n",
       "    </tr>\n",
       "    <tr>\n",
       "      <th>7</th>\n",
       "      <td>9</td>\n",
       "      <td>Wednesday</td>\n",
       "      <td>1018</td>\n",
       "    </tr>\n",
       "    <tr>\n",
       "      <th>51</th>\n",
       "      <td>21</td>\n",
       "      <td>Sunday</td>\n",
       "      <td>234</td>\n",
       "    </tr>\n",
       "    <tr>\n",
       "      <th>60</th>\n",
       "      <td>18</td>\n",
       "      <td>Saturday</td>\n",
       "      <td>200</td>\n",
       "    </tr>\n",
       "  </tbody>\n",
       "</table>\n",
       "</div>"
      ],
      "text/plain": [
       "    hour    weekday  count\n",
       "0      9   Thursday   1447\n",
       "1      9     Monday   1444\n",
       "3      9     Friday   1307\n",
       "5      9    Tuesday   1197\n",
       "7      9  Wednesday   1018\n",
       "51    21     Sunday    234\n",
       "60    18   Saturday    200"
      ]
     },
     "execution_count": 59,
     "metadata": {},
     "output_type": "execute_result"
    }
   ],
   "source": [
    "# Df for the count of largest hour visited per weekday\n",
    "lil_df = (no_cohort_df.groupby(['hour', 'weekday']).size() \n",
    "   .sort_values(ascending=False) \n",
    "   .reset_index(name='count') \n",
    "   .drop_duplicates(subset='weekday'))\n",
    "lil_df"
   ]
  },
  {
   "cell_type": "code",
   "execution_count": 63,
   "metadata": {},
   "outputs": [
    {
     "data": {
      "text/plain": [
       "<Axes: xlabel='ip', ylabel='user_id'>"
      ]
     },
     "execution_count": 63,
     "metadata": {},
     "output_type": "execute_result"
    },
    {
     "data": {
      "image/png": "[encoded data removed]",
      "text/plain": [
       "<Figure size 640x480 with 1 Axes>"
      ]
     },
     "metadata": {},
     "output_type": "display_data"
    }
   ],
   "source": [
    "# distribution of ip by user id\n",
    "sns.scatterplot(data=no_cohort_df, x='ip', y='user_id')"
   ]
  },
  {
   "cell_type": "markdown",
   "metadata": {},
   "source": [
    "## I think it is suspicious that users with no cohort are accessing the lessons at high rates at midnight and even some at 3 or 4 in the morning. I looks like during the week the most common time for users without cohorts to access the lessons is 9am (when class starts), and because this is probably staff, this is not suspicious. You can see 3 very prominent groups of ip addresses for users with no cohort. I think the extreme outliers on the graph are suspicious."
   ]
  },
  {
   "cell_type": "markdown",
   "metadata": {},
   "source": [
    "# In Conclusion:\n",
    "## The most common lesson across cohorts is search/search_index.json (the most visited page is the homepage). Cohort number 13 refers to content/laravel/intro (lesson code 1321) more than others. With low overall visits and cohort 13 doubling visits of cohort with second most visits, it seems other cohorts glossed over it and cohort 13 reffered to it more often. There are students who do not access the curriculum as often as others. Cohort number 21 in 2018 was most common for active students who accessed the curriculum minimally (bottom 10 students). These students were mostly accessing html-css and looked at the lessons most on Mondays and less every day after that. They also looked at the lessons the most at 9am (when class starts) and less as the day went on. I think it is suspicious that users with no cohort are accessing the lessons at high rates at midnight and even some at 3 or 4 in the morning. I looks like during the week the most common time for users without cohorts to access the lessons is 9am (when class starts), and because this is probably staff, this is not suspicious. You can see 3 very prominent groups of ip addresses for users with no cohort. I think the extreme outliers on the graph are suspicious."
   ]
  },
  {
   "cell_type": "markdown",
   "metadata": {},
   "source": []
  }
 ],
 "metadata": {
  "kernelspec": {
   "display_name": "base",
   "language": "python",
   "name": "python3"
  },
  "language_info": {
   "codemirror_mode": {
    "name": "ipython",
    "version": 3
   },
   "file_extension": ".py",
   "mimetype": "text/x-python",
   "name": "python",
   "nbconvert_exporter": "python",
   "pygments_lexer": "ipython3",
   "version": "3.11.3"
  },
  "orig_nbformat": 4
 },
 "nbformat": 4,
 "nbformat_minor": 2
}
